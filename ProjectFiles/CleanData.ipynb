{
 "cells": [
  {
   "cell_type": "code",
   "execution_count": 1,
   "metadata": {},
   "outputs": [],
   "source": [
    "# Import packages and import csv file\n",
    "# Import packages\n",
    "%matplotlib inline\n",
    "import pandas as pd\n",
    "import numpy as np\n",
    "import geopandas\n",
    "import matplotlib.pyplot as plt"
   ]
  },
  {
   "cell_type": "code",
   "execution_count": 14,
   "metadata": {},
   "outputs": [],
   "source": [
    "# Import data\n",
    "# Import tree survey data and falls\n",
    "data = df_falls = pd.read_csv('Data/Intermediate/tree_data_with_falls.csv')"
   ]
  },
  {
   "cell_type": "code",
   "execution_count": 13,
   "metadata": {},
   "outputs": [],
   "source": [
    "# Import tree fall and damage data\n",
    "df_damage = pd.read_csv('Data/Intermediate/tree_damage_with_id.csv')"
   ]
  },
  {
   "cell_type": "code",
   "execution_count": 15,
   "metadata": {},
   "outputs": [],
   "source": [
    "#Clean up un-needed columns\n",
    "data.drop(['Unique Key', 'Created Date', 'Closed Date', 'Agency', 'Complaint Type','Location Type', 'Incident Address',\n",
    "       'Latitude', 'Longitude','block_id', 'created_at','latitude', 'longitude', 'problems','status'],axis=1,inplace=True )\n",
    "df_damage.drop(['Unique Key', 'Created Date', 'Closed Date', 'Agency', 'Complaint Type','Location Type', 'Incident Address',\n",
    "       'Latitude', 'Longitude'],axis=1,inplace=True )"
   ]
  },
  {
   "cell_type": "code",
   "execution_count": 19,
   "metadata": {},
   "outputs": [],
   "source": [
    "# for each tree in the dataset, indicate warning types\n",
    "# first pick important warning types\n",
    "damages = ['Branch Cracked and Will Fall', 'Tree Leaning/Uprooted','Hitting Building','Hitting Power/Phone Lines','Dead Branches in Tree','Blocking Street','Tree Alive - in Poor Condition']\n",
    "\n",
    "# loop through warning type, then loop through tree ids to create new columns and indicate if the tree has that warning type\n",
    "tids = df_damage.tree_id.unique()\n",
    "df_temp = pd.DataFrame()\n",
    "df_temp['tree_id']=tids\n",
    "df_temp.dropna(inplace=True)\n",
    "df_temp.set_index('tree_id',inplace=True)\n",
    "for damage in damages:\n",
    "    df_temp[damage]=0\n",
    "    for tid in tids:\n",
    "        df_temp.loc[tid,damage] = df_damage[df_damage.tree_id==tid].Descriptor.isin([damage]).any()"
   ]
  },
  {
   "cell_type": "code",
   "execution_count": 20,
   "metadata": {},
   "outputs": [],
   "source": [
    "# save the output file\n",
    "df_temp.to_csv('Data/Intermediate/joined_data.csv', index=True)"
   ]
  },
  {
   "cell_type": "code",
   "execution_count": 21,
   "metadata": {},
   "outputs": [],
   "source": [
    "# merge warning indicators with tree data\n",
    "df_trees_falls_damages = data.merge(df_temp,how=\"left\",left_on=\"tree_id\",right_on=\"tree_id\")"
   ]
  },
  {
   "cell_type": "code",
   "execution_count": 22,
   "metadata": {},
   "outputs": [],
   "source": [
    "# save this data to use for modeling\n",
    "df_trees_falls_damages.to_csv('Data/Intermediate/model_data.csv', index=True)"
   ]
  }
 ],
 "metadata": {
  "kernelspec": {
   "display_name": "Python 3",
   "language": "python",
   "name": "python3"
  },
  "language_info": {
   "codemirror_mode": {
    "name": "ipython",
    "version": 3
   },
   "file_extension": ".py",
   "mimetype": "text/x-python",
   "name": "python",
   "nbconvert_exporter": "python",
   "pygments_lexer": "ipython3",
   "version": "3.7.4"
  }
 },
 "nbformat": 4,
 "nbformat_minor": 2
}
