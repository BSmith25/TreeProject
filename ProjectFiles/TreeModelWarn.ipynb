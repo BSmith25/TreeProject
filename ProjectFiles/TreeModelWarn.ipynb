{
 "cells": [
  {
   "cell_type": "code",
   "execution_count": 155,
   "metadata": {},
   "outputs": [],
   "source": [
    "# Import packages\n",
    "%matplotlib inline\n",
    "import category_encoders as ce\n",
    "import pandas as pd\n",
    "import numpy as np\n",
    "import matplotlib.pyplot as plt\n",
    "from sklearn import tree\n",
    "from sklearn.ensemble import RandomForestClassifier\n",
    "from sklearn.model_selection import train_test_split\n",
    "from sklearn.metrics import accuracy_score\n",
    "from sklearn.metrics import confusion_matrix\n",
    "from sklearn.metrics import roc_auc_score\n",
    "import psycopg2\n",
    "from sqlalchemy import create_engine"
   ]
  },
  {
   "cell_type": "code",
   "execution_count": 39,
   "metadata": {},
   "outputs": [],
   "source": [
    "#Import data\n",
    "df_trees = pd.read_csv('Data/Intermediate/model_data.csv',index_col='tree_id')"
   ]
  },
  {
   "cell_type": "code",
   "execution_count": 48,
   "metadata": {},
   "outputs": [],
   "source": [
    "# Import impervious surface and building height data generated in QGIS\n",
    "df_imp_bldghght = pd.read_csv('Data/spatialdatasets/data_with_imp_bldghght.csv',index_col='tree_id')"
   ]
  },
  {
   "cell_type": "code",
   "execution_count": 49,
   "metadata": {},
   "outputs": [],
   "source": [
    "# drop un-needed columns\n",
    "df_imp_bldghght.drop(['address','block_id', 'created_at', 'curb_loc', 'guards', 'health',\n",
    "       'latitude', 'longitude', 'problems', 'root_grate', 'root_other',\n",
    "       'root_stone', 'sidewalk', 'spc_common', 'status', 'steward', 'tree_dbh',\n",
    "       'trnk_light', 'trnk_other', 'trnk_wire', 'zipcode'],axis=1,inplace=True)"
   ]
  },
  {
   "cell_type": "code",
   "execution_count": 50,
   "metadata": {},
   "outputs": [],
   "source": [
    "# merge tree data and spatial data\n",
    "df = df_trees.merge(df_imp_bldghght,how='left',left_index=True,right_index=True)"
   ]
  },
  {
   "cell_type": "code",
   "execution_count": 51,
   "metadata": {},
   "outputs": [],
   "source": [
    "# Rename confusing columns and drop un-needed ones\n",
    "df.drop(['Unnamed: 0'],axis=1,inplace=True)\n",
    "df.rename(columns={'rvalue_1':'impervious_pct'},inplace=True)\n",
    "df.drop('Incident Zip',axis=1,inplace=True)\n",
    "df.rename(columns={'Descriptor':'Fall'},inplace=True)"
   ]
  },
  {
   "cell_type": "code",
   "execution_count": 52,
   "metadata": {},
   "outputs": [
    {
     "name": "stderr",
     "output_type": "stream",
     "text": [
      "C:\\Users\\Brianne\\Anaconda3\\lib\\site-packages\\ipykernel_launcher.py:25: SettingWithCopyWarning: \n",
      "A value is trying to be set on a copy of a slice from a DataFrame.\n",
      "Try using .loc[row_indexer,col_indexer] = value instead\n",
      "\n",
      "See the caveats in the documentation: http://pandas.pydata.org/pandas-docs/stable/indexing.html#indexing-view-versus-copy\n",
      "C:\\Users\\Brianne\\Anaconda3\\lib\\site-packages\\ipykernel_launcher.py:26: SettingWithCopyWarning: \n",
      "A value is trying to be set on a copy of a slice from a DataFrame.\n",
      "Try using .loc[row_indexer,col_indexer] = value instead\n",
      "\n",
      "See the caveats in the documentation: http://pandas.pydata.org/pandas-docs/stable/indexing.html#indexing-view-versus-copy\n"
     ]
    }
   ],
   "source": [
    "# Deal with categorical data\n",
    "# make a copy\n",
    "dt_input = df.copy()\n",
    "\n",
    "# First convert all Yes/No and True/False columns to 1/0\n",
    "dt_input.replace({'No': 0, 'Yes': 1},value=None,inplace=True)\n",
    "dt_input.replace({False: 0, True: 1},value=None,inplace=True)\n",
    "dt_input.replace(np.nan,0,inplace=True)\n",
    "\n",
    "# Now convert all 2 option columns to 1/0\n",
    "dt_input.curb_loc.replace({'OnCurb':1, 'OffsetFromCurb':0},value=None,inplace=True)\n",
    "dt_input.sidewalk.replace({'Damage':1, 'NoDamage':0},value=None,inplace=True)\n",
    "dt_input.Fall.replace('Branch or Limb Has Fallen Down',1,inplace=True)\n",
    "\n",
    "# Replace health, steward, and guards columns with numerical levels\n",
    "dt_input.health.replace({'Poor':0,'Fair':1,'Good':2},value=None,inplace=True)\n",
    "dt_input.steward.replace({'None':0,'1or2':1,'3or4':2,'4orMore':3},value=None,inplace=True)\n",
    "dt_input.guards.replace({'Harmful':0,'None':1,'Unsure':2,'Helpful':4},value=None,inplace=True)\n",
    "\n",
    "# Target encode tree species descriptor data\n",
    "# First split train and test data to prevent data leakage\n",
    "dt_train, dt_test = train_test_split(dt_input, random_state=1,test_size=0.8) # small train size for grid search efficiency\n",
    "\n",
    "target_dict = dt_train.groupby('spc_common')['Fall'].mean()\n",
    "dt_train['spc_common'] = dt_train['spc_common'].map(target_dict)\n",
    "dt_test['spc_common'] = dt_test['spc_common'].map(target_dict)\n"
   ]
  },
  {
   "cell_type": "code",
   "execution_count": 15,
   "metadata": {},
   "outputs": [
    {
     "name": "stderr",
     "output_type": "stream",
     "text": [
      "C:\\Users\\Brianne\\Anaconda3\\lib\\site-packages\\sklearn\\model_selection\\_split.py:2053: FutureWarning: You should specify a value for 'cv' instead of relying on the default value. The default value will change from 3 to 5 in version 0.22.\n",
      "  warnings.warn(CV_WARNING, FutureWarning)\n"
     ]
    }
   ],
   "source": [
    "# Use gridsearch to optimize parameters\n",
    "x_train = dt_train.drop(['zipcode','Fall','address'],axis=1)\n",
    "y_train = dt_train.Fall\n",
    "from sklearn.ensemble import RandomForestClassifier\n",
    "from sklearn.model_selection import GridSearchCV\n",
    "\n",
    "#model\n",
    "forest = RandomForestClassifier(random_state = 1)\n",
    "\n",
    "# Grid Search\n",
    "n_estimators = [100, 300]\n",
    "max_depth = [10, 30, 50]\n",
    "class_weight = ['balanced', 'balanced_subsample', None]\n",
    "\n",
    "hyperF = dict(n_estimators = n_estimators, max_depth = max_depth, class_weight=class_weight)\n",
    "\n",
    "gridF = GridSearchCV(forest, hyperF, scoring = 'recall', n_jobs = -1)"
   ]
  },
  {
   "cell_type": "code",
   "execution_count": 17,
   "metadata": {},
   "outputs": [
    {
     "data": {
      "text/plain": [
       "array([0.74340704, 0.74411981, 0.18650512, 0.18507961, 0.15419336,\n",
       "       0.15538128, 0.74530772, 0.74602049, 0.18127826, 0.18151583,\n",
       "       0.15561889, 0.15633162, 0.02328342, 0.023521  , 0.15039201,\n",
       "       0.1506296 , 0.1620337 , 0.16250887])"
      ]
     },
     "execution_count": 17,
     "metadata": {},
     "output_type": "execute_result"
    }
   ],
   "source": [
    "# Check gridsearch scores\n",
    "gridF.cv_results_['mean_test_score']"
   ]
  },
  {
   "cell_type": "code",
   "execution_count": 19,
   "metadata": {},
   "outputs": [
    {
     "data": {
      "text/plain": [
       "{'class_weight': 'balanced_subsample', 'max_depth': 10, 'n_estimators': 300}"
      ]
     },
     "execution_count": 19,
     "metadata": {},
     "output_type": "execute_result"
    }
   ],
   "source": [
    "# check gridsearch optimized parameters\n",
    "gridF.best_params_"
   ]
  },
  {
   "cell_type": "code",
   "execution_count": 23,
   "metadata": {},
   "outputs": [
    {
     "data": {
      "text/plain": [
       "0.7818494913885068"
      ]
     },
     "execution_count": 23,
     "metadata": {},
     "output_type": "execute_result"
    }
   ],
   "source": [
    "# check gridsearch AUC\n",
    "x_test = dt_test.drop(['zipcode','Fall','address'],axis=1)\n",
    "y_test = dt_test.Fall\n",
    "y_pred = gridF.predict(x_test)\n",
    "roc_auc_score(y_test,y_pred)"
   ]
  },
  {
   "cell_type": "code",
   "execution_count": 24,
   "metadata": {},
   "outputs": [
    {
     "data": {
      "text/html": [
       "<div>\n",
       "<style scoped>\n",
       "    .dataframe tbody tr th:only-of-type {\n",
       "        vertical-align: middle;\n",
       "    }\n",
       "\n",
       "    .dataframe tbody tr th {\n",
       "        vertical-align: top;\n",
       "    }\n",
       "\n",
       "    .dataframe thead th {\n",
       "        text-align: right;\n",
       "    }\n",
       "</style>\n",
       "<table border=\"1\" class=\"dataframe\">\n",
       "  <thead>\n",
       "    <tr style=\"text-align: right;\">\n",
       "      <th></th>\n",
       "      <th>Predicted No Fall</th>\n",
       "      <th>Predicted Fall</th>\n",
       "    </tr>\n",
       "  </thead>\n",
       "  <tbody>\n",
       "    <tr>\n",
       "      <th>True No Fall</th>\n",
       "      <td>497372</td>\n",
       "      <td>115624</td>\n",
       "    </tr>\n",
       "    <tr>\n",
       "      <th>True Fall</th>\n",
       "      <td>4110</td>\n",
       "      <td>12484</td>\n",
       "    </tr>\n",
       "  </tbody>\n",
       "</table>\n",
       "</div>"
      ],
      "text/plain": [
       "              Predicted No Fall  Predicted Fall\n",
       "True No Fall             497372          115624\n",
       "True Fall                  4110           12484"
      ]
     },
     "execution_count": 24,
     "metadata": {},
     "output_type": "execute_result"
    }
   ],
   "source": [
    "# check gridsearch confusion matrix\n",
    "pd.DataFrame(\n",
    "    confusion_matrix(y_test, y_pred),\n",
    "    columns=['Predicted No Fall', 'Predicted Fall'],\n",
    "    index=['True No Fall', 'True Fall']\n",
    ")"
   ]
  },
  {
   "cell_type": "code",
   "execution_count": 97,
   "metadata": {},
   "outputs": [
    {
     "name": "stderr",
     "output_type": "stream",
     "text": [
      "C:\\Users\\Brianne\\Anaconda3\\lib\\site-packages\\ipykernel_launcher.py:5: SettingWithCopyWarning: \n",
      "A value is trying to be set on a copy of a slice from a DataFrame.\n",
      "Try using .loc[row_indexer,col_indexer] = value instead\n",
      "\n",
      "See the caveats in the documentation: http://pandas.pydata.org/pandas-docs/stable/indexing.html#indexing-view-versus-copy\n",
      "  \"\"\"\n",
      "C:\\Users\\Brianne\\Anaconda3\\lib\\site-packages\\ipykernel_launcher.py:6: SettingWithCopyWarning: \n",
      "A value is trying to be set on a copy of a slice from a DataFrame.\n",
      "Try using .loc[row_indexer,col_indexer] = value instead\n",
      "\n",
      "See the caveats in the documentation: http://pandas.pydata.org/pandas-docs/stable/indexing.html#indexing-view-versus-copy\n",
      "  \n"
     ]
    },
    {
     "name": "stdout",
     "output_type": "stream",
     "text": [
      "Feature ranking:\n",
      "1. feature heightroof (0.355961)\n",
      "2. feature Branch Cracked and Will Fall (0.175371)\n",
      "3. feature tree_dbh (0.122930)\n",
      "4. feature spc_common (0.090125)\n",
      "5. feature Hitting Building (0.058071)\n",
      "6. feature Dead Branches in Tree (0.056429)\n",
      "7. feature Blocking Street (0.032773)\n",
      "8. feature Hitting Power/Phone Lines (0.026240)\n",
      "9. feature Tree Leaning/Uprooted (0.022557)\n",
      "10. feature Tree Alive - in Poor Condition (0.014256)\n",
      "11. feature impervious_pct (0.010377)\n",
      "12. feature guards (0.006857)\n",
      "13. feature root_stone (0.006377)\n",
      "14. feature health (0.005870)\n",
      "15. feature sidewalk (0.005302)\n",
      "16. feature curb_loc (0.005041)\n",
      "17. feature steward (0.002817)\n",
      "18. feature root_other (0.000896)\n",
      "19. feature trnk_other (0.000810)\n",
      "20. feature trnk_wire (0.000582)\n",
      "21. feature root_grate (0.000231)\n",
      "22. feature trnk_light (0.000127)\n"
     ]
    },
    {
     "data": {
      "image/png": "[encoded data removed]",
      "text/plain": [
       "<Figure size 432x288 with 1 Axes>"
      ]
     },
     "metadata": {
      "needs_background": "light"
     },
     "output_type": "display_data"
    }
   ],
   "source": [
    "# Fit a random forest to the data and check feature importance\n",
    "dt_train, dt_test = train_test_split(dt_input, random_state=1,test_size=0.2)\n",
    "dt_train2 = dt_train.copy()\n",
    "dt_test2 = dt_test.copy()\n",
    "dt_train['spc_common'] = dt_train['spc_common'].map(target_dict)\n",
    "dt_test['spc_common'] = dt_test['spc_common'].map(target_dict)\n",
    "\n",
    "x_train = dt_train.drop(['zipcode','Fall','address'],axis=1)\n",
    "y_train = dt_train.Fall\n",
    "\n",
    "forest = RandomForestClassifier(n_jobs=-1,class_weight='balanced_subsample',random_state = 1, max_depth = 10, n_estimators = 300)\n",
    "\n",
    "model = forest.fit(x_train, y_train)\n",
    "importances = forest.feature_importances_\n",
    "std = np.std([tree.feature_importances_ for tree in forest.estimators_],\n",
    "             axis=0)\n",
    "indices = np.argsort(importances)[::-1]\n",
    "\n",
    "# Print the feature ranking\n",
    "print(\"Feature ranking:\")\n",
    "\n",
    "for f in range(x_train.shape[1]):\n",
    "    print(\"%d. feature %s (%f)\" % (f + 1, x_train.columns[indices[f]], importances[indices[f]]))\n",
    "\n",
    "# Plot the feature importances of the forest\n",
    "plt.figure()\n",
    "plt.title(\"Feature importances\")\n",
    "plt.bar(range(x_train.shape[1]), importances[indices],\n",
    "       color=\"r\", yerr=std[indices], align=\"center\")\n",
    "plt.xticks(range(x_train.shape[1]), indices)\n",
    "plt.xlim([-1, x_train.shape[1]])\n",
    "plt.show()"
   ]
  },
  {
   "cell_type": "code",
   "execution_count": 98,
   "metadata": {},
   "outputs": [
    {
     "data": {
      "text/plain": [
       "0.790570840634056"
      ]
     },
     "execution_count": 98,
     "metadata": {},
     "output_type": "execute_result"
    }
   ],
   "source": [
    "# Check AUC for model on test data\n",
    "x_test = dt_test.drop(['zipcode','Fall','address'],axis=1)\n",
    "y_test = dt_test.Fall\n",
    "y_pred = forest.predict(x_test)\n",
    "roc_auc_score(y_test,y_pred)"
   ]
  },
  {
   "cell_type": "code",
   "execution_count": 99,
   "metadata": {},
   "outputs": [
    {
     "data": {
      "text/html": [
       "<div>\n",
       "<style scoped>\n",
       "    .dataframe tbody tr th:only-of-type {\n",
       "        vertical-align: middle;\n",
       "    }\n",
       "\n",
       "    .dataframe tbody tr th {\n",
       "        vertical-align: top;\n",
       "    }\n",
       "\n",
       "    .dataframe thead th {\n",
       "        text-align: right;\n",
       "    }\n",
       "</style>\n",
       "<table border=\"1\" class=\"dataframe\">\n",
       "  <thead>\n",
       "    <tr style=\"text-align: right;\">\n",
       "      <th></th>\n",
       "      <th>Predicted No Fall</th>\n",
       "      <th>Predicted Fall</th>\n",
       "    </tr>\n",
       "  </thead>\n",
       "  <tbody>\n",
       "    <tr>\n",
       "      <th>True No Fall</th>\n",
       "      <td>123861</td>\n",
       "      <td>29425</td>\n",
       "    </tr>\n",
       "    <tr>\n",
       "      <th>True Fall</th>\n",
       "      <td>933</td>\n",
       "      <td>3179</td>\n",
       "    </tr>\n",
       "  </tbody>\n",
       "</table>\n",
       "</div>"
      ],
      "text/plain": [
       "              Predicted No Fall  Predicted Fall\n",
       "True No Fall             123861           29425\n",
       "True Fall                   933            3179"
      ]
     },
     "execution_count": 99,
     "metadata": {},
     "output_type": "execute_result"
    }
   ],
   "source": [
    "# Check confusion matrix for model on test data\n",
    "pd.DataFrame(\n",
    "    confusion_matrix(y_test, y_pred),\n",
    "    columns=['Predicted No Fall', 'Predicted Fall'],\n",
    "    index=['True No Fall', 'True Fall']\n",
    ")"
   ]
  },
  {
   "cell_type": "code",
   "execution_count": 245,
   "metadata": {},
   "outputs": [
    {
     "data": {
      "text/plain": [
       "0.8071258846999326"
      ]
     },
     "execution_count": 245,
     "metadata": {},
     "output_type": "execute_result"
    }
   ],
   "source": [
    "accuracy_score(y_test,y_pred)"
   ]
  },
  {
   "cell_type": "code",
   "execution_count": 100,
   "metadata": {},
   "outputs": [],
   "source": [
    "# Calculate Fall probabilities of each tree from model\n",
    "prob_train = forest.predict_proba(x_train)\n",
    "prob_test = forest.predict_proba(x_test)"
   ]
  },
  {
   "cell_type": "code",
   "execution_count": 130,
   "metadata": {},
   "outputs": [],
   "source": [
    "# combine all fall probabilites with data\n",
    "dt_train2['fallprob'] = prob_train[:,1]\n",
    "dt_test2['fallprob'] = prob_test[:,1]\n",
    "data_prob = dt_train2.append(dt_test2)"
   ]
  },
  {
   "cell_type": "code",
   "execution_count": 254,
   "metadata": {},
   "outputs": [],
   "source": [
    "# Remove duplicate trees\n",
    "data_prob.reset_index(inplace=True)\n",
    "data_prob.drop_duplicates(subset='tree_id',inplace=True)"
   ]
  },
  {
   "cell_type": "code",
   "execution_count": 255,
   "metadata": {},
   "outputs": [
    {
     "data": {
      "text/plain": [
       "<matplotlib.axes._subplots.AxesSubplot at 0x1b9bd00def0>"
      ]
     },
     "execution_count": 255,
     "metadata": {},
     "output_type": "execute_result"
    },
    {
     "data": {
      "image/png": "[encoded data removed]",
      "text/plain": [
       "<Figure size 432x288 with 1 Axes>"
      ]
     },
     "metadata": {
      "needs_background": "light"
     },
     "output_type": "display_data"
    }
   ],
   "source": [
    "# plot\n",
    "data_prob.fallprob.hist()"
   ]
  },
  {
   "cell_type": "code",
   "execution_count": 256,
   "metadata": {},
   "outputs": [
    {
     "ename": "KeyError",
     "evalue": "\"['Fall' 'Branch Cracked and Will Fall' 'Tree Leaning/Uprooted'\\n 'Hitting Building' 'Hitting Power/Phone Lines' 'Dead Branches in Tree'\\n 'Blocking Street' 'Tree Alive - in Poor Condition'] not found in axis\"",
     "output_type": "error",
     "traceback": [
      "\u001b[1;31m---------------------------------------------------------------------------\u001b[0m",
      "\u001b[1;31mKeyError\u001b[0m                                  Traceback (most recent call last)",
      "\u001b[1;32m<ipython-input-256-916ddc32148b>\u001b[0m in \u001b[0;36m<module>\u001b[1;34m\u001b[0m\n\u001b[0;32m      3\u001b[0m        \u001b[1;34m'Hitting Building'\u001b[0m\u001b[1;33m,\u001b[0m \u001b[1;34m'Hitting Power/Phone Lines'\u001b[0m\u001b[1;33m,\u001b[0m\u001b[1;33m\u001b[0m\u001b[1;33m\u001b[0m\u001b[0m\n\u001b[0;32m      4\u001b[0m        \u001b[1;34m'Dead Branches in Tree'\u001b[0m\u001b[1;33m,\u001b[0m \u001b[1;34m'Blocking Street'\u001b[0m\u001b[1;33m,\u001b[0m\u001b[1;33m\u001b[0m\u001b[1;33m\u001b[0m\u001b[0m\n\u001b[1;32m----> 5\u001b[1;33m        'Tree Alive - in Poor Condition'],axis=1,inplace=True)\n\u001b[0m\u001b[0;32m      6\u001b[0m \u001b[0mdata_prob\u001b[0m\u001b[1;33m.\u001b[0m\u001b[0mcolumns\u001b[0m\u001b[1;33m\u001b[0m\u001b[1;33m\u001b[0m\u001b[0m\n",
      "\u001b[1;32m~\\Anaconda3\\lib\\site-packages\\pandas\\core\\frame.py\u001b[0m in \u001b[0;36mdrop\u001b[1;34m(self, labels, axis, index, columns, level, inplace, errors)\u001b[0m\n\u001b[0;32m   3695\u001b[0m                                            \u001b[0mindex\u001b[0m\u001b[1;33m=\u001b[0m\u001b[0mindex\u001b[0m\u001b[1;33m,\u001b[0m \u001b[0mcolumns\u001b[0m\u001b[1;33m=\u001b[0m\u001b[0mcolumns\u001b[0m\u001b[1;33m,\u001b[0m\u001b[1;33m\u001b[0m\u001b[1;33m\u001b[0m\u001b[0m\n\u001b[0;32m   3696\u001b[0m                                            \u001b[0mlevel\u001b[0m\u001b[1;33m=\u001b[0m\u001b[0mlevel\u001b[0m\u001b[1;33m,\u001b[0m \u001b[0minplace\u001b[0m\u001b[1;33m=\u001b[0m\u001b[0minplace\u001b[0m\u001b[1;33m,\u001b[0m\u001b[1;33m\u001b[0m\u001b[1;33m\u001b[0m\u001b[0m\n\u001b[1;32m-> 3697\u001b[1;33m                                            errors=errors)\n\u001b[0m\u001b[0;32m   3698\u001b[0m \u001b[1;33m\u001b[0m\u001b[0m\n\u001b[0;32m   3699\u001b[0m     @rewrite_axis_style_signature('mapper', [('copy', True),\n",
      "\u001b[1;32m~\\Anaconda3\\lib\\site-packages\\pandas\\core\\generic.py\u001b[0m in \u001b[0;36mdrop\u001b[1;34m(self, labels, axis, index, columns, level, inplace, errors)\u001b[0m\n\u001b[0;32m   3109\u001b[0m         \u001b[1;32mfor\u001b[0m \u001b[0maxis\u001b[0m\u001b[1;33m,\u001b[0m \u001b[0mlabels\u001b[0m \u001b[1;32min\u001b[0m \u001b[0maxes\u001b[0m\u001b[1;33m.\u001b[0m\u001b[0mitems\u001b[0m\u001b[1;33m(\u001b[0m\u001b[1;33m)\u001b[0m\u001b[1;33m:\u001b[0m\u001b[1;33m\u001b[0m\u001b[1;33m\u001b[0m\u001b[0m\n\u001b[0;32m   3110\u001b[0m             \u001b[1;32mif\u001b[0m \u001b[0mlabels\u001b[0m \u001b[1;32mis\u001b[0m \u001b[1;32mnot\u001b[0m \u001b[1;32mNone\u001b[0m\u001b[1;33m:\u001b[0m\u001b[1;33m\u001b[0m\u001b[1;33m\u001b[0m\u001b[0m\n\u001b[1;32m-> 3111\u001b[1;33m                 \u001b[0mobj\u001b[0m \u001b[1;33m=\u001b[0m \u001b[0mobj\u001b[0m\u001b[1;33m.\u001b[0m\u001b[0m_drop_axis\u001b[0m\u001b[1;33m(\u001b[0m\u001b[0mlabels\u001b[0m\u001b[1;33m,\u001b[0m \u001b[0maxis\u001b[0m\u001b[1;33m,\u001b[0m \u001b[0mlevel\u001b[0m\u001b[1;33m=\u001b[0m\u001b[0mlevel\u001b[0m\u001b[1;33m,\u001b[0m \u001b[0merrors\u001b[0m\u001b[1;33m=\u001b[0m\u001b[0merrors\u001b[0m\u001b[1;33m)\u001b[0m\u001b[1;33m\u001b[0m\u001b[1;33m\u001b[0m\u001b[0m\n\u001b[0m\u001b[0;32m   3112\u001b[0m \u001b[1;33m\u001b[0m\u001b[0m\n\u001b[0;32m   3113\u001b[0m         \u001b[1;32mif\u001b[0m \u001b[0minplace\u001b[0m\u001b[1;33m:\u001b[0m\u001b[1;33m\u001b[0m\u001b[1;33m\u001b[0m\u001b[0m\n",
      "\u001b[1;32m~\\Anaconda3\\lib\\site-packages\\pandas\\core\\generic.py\u001b[0m in \u001b[0;36m_drop_axis\u001b[1;34m(self, labels, axis, level, errors)\u001b[0m\n\u001b[0;32m   3141\u001b[0m                 \u001b[0mnew_axis\u001b[0m \u001b[1;33m=\u001b[0m \u001b[0maxis\u001b[0m\u001b[1;33m.\u001b[0m\u001b[0mdrop\u001b[0m\u001b[1;33m(\u001b[0m\u001b[0mlabels\u001b[0m\u001b[1;33m,\u001b[0m \u001b[0mlevel\u001b[0m\u001b[1;33m=\u001b[0m\u001b[0mlevel\u001b[0m\u001b[1;33m,\u001b[0m \u001b[0merrors\u001b[0m\u001b[1;33m=\u001b[0m\u001b[0merrors\u001b[0m\u001b[1;33m)\u001b[0m\u001b[1;33m\u001b[0m\u001b[1;33m\u001b[0m\u001b[0m\n\u001b[0;32m   3142\u001b[0m             \u001b[1;32melse\u001b[0m\u001b[1;33m:\u001b[0m\u001b[1;33m\u001b[0m\u001b[1;33m\u001b[0m\u001b[0m\n\u001b[1;32m-> 3143\u001b[1;33m                 \u001b[0mnew_axis\u001b[0m \u001b[1;33m=\u001b[0m \u001b[0maxis\u001b[0m\u001b[1;33m.\u001b[0m\u001b[0mdrop\u001b[0m\u001b[1;33m(\u001b[0m\u001b[0mlabels\u001b[0m\u001b[1;33m,\u001b[0m \u001b[0merrors\u001b[0m\u001b[1;33m=\u001b[0m\u001b[0merrors\u001b[0m\u001b[1;33m)\u001b[0m\u001b[1;33m\u001b[0m\u001b[1;33m\u001b[0m\u001b[0m\n\u001b[0m\u001b[0;32m   3144\u001b[0m             \u001b[0mresult\u001b[0m \u001b[1;33m=\u001b[0m \u001b[0mself\u001b[0m\u001b[1;33m.\u001b[0m\u001b[0mreindex\u001b[0m\u001b[1;33m(\u001b[0m\u001b[1;33m**\u001b[0m\u001b[1;33m{\u001b[0m\u001b[0maxis_name\u001b[0m\u001b[1;33m:\u001b[0m \u001b[0mnew_axis\u001b[0m\u001b[1;33m}\u001b[0m\u001b[1;33m)\u001b[0m\u001b[1;33m\u001b[0m\u001b[1;33m\u001b[0m\u001b[0m\n\u001b[0;32m   3145\u001b[0m \u001b[1;33m\u001b[0m\u001b[0m\n",
      "\u001b[1;32m~\\Anaconda3\\lib\\site-packages\\pandas\\core\\indexes\\base.py\u001b[0m in \u001b[0;36mdrop\u001b[1;34m(self, labels, errors)\u001b[0m\n\u001b[0;32m   4402\u001b[0m             \u001b[1;32mif\u001b[0m \u001b[0merrors\u001b[0m \u001b[1;33m!=\u001b[0m \u001b[1;34m'ignore'\u001b[0m\u001b[1;33m:\u001b[0m\u001b[1;33m\u001b[0m\u001b[1;33m\u001b[0m\u001b[0m\n\u001b[0;32m   4403\u001b[0m                 raise KeyError(\n\u001b[1;32m-> 4404\u001b[1;33m                     '{} not found in axis'.format(labels[mask]))\n\u001b[0m\u001b[0;32m   4405\u001b[0m             \u001b[0mindexer\u001b[0m \u001b[1;33m=\u001b[0m \u001b[0mindexer\u001b[0m\u001b[1;33m[\u001b[0m\u001b[1;33m~\u001b[0m\u001b[0mmask\u001b[0m\u001b[1;33m]\u001b[0m\u001b[1;33m\u001b[0m\u001b[1;33m\u001b[0m\u001b[0m\n\u001b[0;32m   4406\u001b[0m         \u001b[1;32mreturn\u001b[0m \u001b[0mself\u001b[0m\u001b[1;33m.\u001b[0m\u001b[0mdelete\u001b[0m\u001b[1;33m(\u001b[0m\u001b[0mindexer\u001b[0m\u001b[1;33m)\u001b[0m\u001b[1;33m\u001b[0m\u001b[1;33m\u001b[0m\u001b[0m\n",
      "\u001b[1;31mKeyError\u001b[0m: \"['Fall' 'Branch Cracked and Will Fall' 'Tree Leaning/Uprooted'\\n 'Hitting Building' 'Hitting Power/Phone Lines' 'Dead Branches in Tree'\\n 'Blocking Street' 'Tree Alive - in Poor Condition'] not found in axis\""
     ]
    }
   ],
   "source": [
    "# clean up dataset\n",
    "data_prob.drop(['Fall','Branch Cracked and Will Fall', 'Tree Leaning/Uprooted',\n",
    "       'Hitting Building', 'Hitting Power/Phone Lines',\n",
    "       'Dead Branches in Tree', 'Blocking Street',\n",
    "       'Tree Alive - in Poor Condition'],axis=1,inplace=True)\n",
    "data_prob.columns"
   ]
  },
  {
   "cell_type": "code",
   "execution_count": 257,
   "metadata": {},
   "outputs": [],
   "source": [
    "# export data\n",
    "data_prob.to_csv('Data/ModelData/WarnModelOutput.csv')"
   ]
  },
  {
   "cell_type": "code",
   "execution_count": 258,
   "metadata": {},
   "outputs": [],
   "source": [
    "# import no warn model data to merge model outputs\n",
    "nw_data_prob = pd.read_csv('Data/ModelData/NoWarnModelOutput.csv')"
   ]
  },
  {
   "cell_type": "code",
   "execution_count": 259,
   "metadata": {},
   "outputs": [],
   "source": [
    "# import fall/warning ratios\n",
    "warn_fall_ratio_data = geopandas.read_file('Data/spatialdatasets/Fall_Count.shp')"
   ]
  },
  {
   "cell_type": "code",
   "execution_count": 260,
   "metadata": {},
   "outputs": [],
   "source": [
    "# grab only zipcode and warnings per fall data\n",
    "warn_fall_ratio = fall_warn_ratio_data[['ZIPCODE','DamperFall']]"
   ]
  },
  {
   "cell_type": "code",
   "execution_count": 261,
   "metadata": {},
   "outputs": [],
   "source": [
    "# Find max warn per fall ratio for normalization use 2nd largest warn per fall ratio because max is so big\n",
    "max_warn_fall_ratio = warn_fall_ratio['DamperFall'].nlargest(n=2).iloc[1]\n",
    "warn_fall_ratio.loc[16,'DamperFall'] = max_warn_fall_ratio"
   ]
  },
  {
   "cell_type": "code",
   "execution_count": 262,
   "metadata": {},
   "outputs": [],
   "source": [
    "#Create final merged model fall probabilities\n",
    "model_ratio =pd.DataFrame()\n",
    "model_ratio['zipcode'] = warn_fall_ratio['ZIPCODE']\n",
    "model_ratio['ratio'] = warn_fall_ratio['DamperFall']/max_warn_fall_ratio"
   ]
  },
  {
   "cell_type": "code",
   "execution_count": 263,
   "metadata": {},
   "outputs": [
    {
     "data": {
      "text/plain": [
       "<matplotlib.axes._subplots.AxesSubplot at 0x1b98b1311d0>"
      ]
     },
     "execution_count": 263,
     "metadata": {},
     "output_type": "execute_result"
    },
    {
     "data": {
      "image/png": "[encoded data removed]",
      "text/plain": [
       "<Figure size 432x288 with 1 Axes>"
      ]
     },
     "metadata": {
      "needs_background": "light"
     },
     "output_type": "display_data"
    }
   ],
   "source": [
    "# check that the ratios look reasonable\n",
    "model_ratio['ratio'].hist()"
   ]
  },
  {
   "cell_type": "code",
   "execution_count": 264,
   "metadata": {},
   "outputs": [],
   "source": [
    "# update zipcode type so merge works\n",
    "model_ratio['zipcode'] = model_ratio.zipcode.astype(int)"
   ]
  },
  {
   "cell_type": "code",
   "execution_count": 265,
   "metadata": {},
   "outputs": [],
   "source": [
    "# Join ratios to dataset\n",
    "data_prob = data_prob.merge(model_ratio,how='left',right_on='zipcode',left_on='zipcode')"
   ]
  },
  {
   "cell_type": "code",
   "execution_count": 266,
   "metadata": {},
   "outputs": [
    {
     "ename": "AttributeError",
     "evalue": "'DataFrame' object has no attribute 'ratio'",
     "output_type": "error",
     "traceback": [
      "\u001b[1;31m---------------------------------------------------------------------------\u001b[0m",
      "\u001b[1;31mAttributeError\u001b[0m                            Traceback (most recent call last)",
      "\u001b[1;32m<ipython-input-266-7ffdf04f309a>\u001b[0m in \u001b[0;36m<module>\u001b[1;34m\u001b[0m\n\u001b[0;32m      1\u001b[0m \u001b[1;31m# Make a merged prediction for each tree\u001b[0m\u001b[1;33m\u001b[0m\u001b[1;33m\u001b[0m\u001b[1;33m\u001b[0m\u001b[0m\n\u001b[1;32m----> 2\u001b[1;33m \u001b[0mfinal_fall_prob\u001b[0m \u001b[1;33m=\u001b[0m \u001b[0mdata_prob\u001b[0m\u001b[1;33m.\u001b[0m\u001b[0mfallprob\u001b[0m\u001b[1;33m*\u001b[0m\u001b[0mdata_prob\u001b[0m\u001b[1;33m.\u001b[0m\u001b[0mratio\u001b[0m \u001b[1;33m+\u001b[0m \u001b[0mnw_data_prob\u001b[0m\u001b[1;33m.\u001b[0m\u001b[0mfallprob\u001b[0m \u001b[1;33m*\u001b[0m \u001b[1;33m(\u001b[0m\u001b[1;36m1\u001b[0m\u001b[1;33m-\u001b[0m\u001b[0mdata_prob\u001b[0m\u001b[1;33m.\u001b[0m\u001b[0mratio\u001b[0m\u001b[1;33m)\u001b[0m\u001b[1;33m\u001b[0m\u001b[1;33m\u001b[0m\u001b[0m\n\u001b[0m",
      "\u001b[1;32m~\\Anaconda3\\lib\\site-packages\\pandas\\core\\generic.py\u001b[0m in \u001b[0;36m__getattr__\u001b[1;34m(self, name)\u001b[0m\n\u001b[0;32m   4374\u001b[0m             \u001b[1;32mif\u001b[0m \u001b[0mself\u001b[0m\u001b[1;33m.\u001b[0m\u001b[0m_info_axis\u001b[0m\u001b[1;33m.\u001b[0m\u001b[0m_can_hold_identifiers_and_holds_name\u001b[0m\u001b[1;33m(\u001b[0m\u001b[0mname\u001b[0m\u001b[1;33m)\u001b[0m\u001b[1;33m:\u001b[0m\u001b[1;33m\u001b[0m\u001b[1;33m\u001b[0m\u001b[0m\n\u001b[0;32m   4375\u001b[0m                 \u001b[1;32mreturn\u001b[0m \u001b[0mself\u001b[0m\u001b[1;33m[\u001b[0m\u001b[0mname\u001b[0m\u001b[1;33m]\u001b[0m\u001b[1;33m\u001b[0m\u001b[1;33m\u001b[0m\u001b[0m\n\u001b[1;32m-> 4376\u001b[1;33m             \u001b[1;32mreturn\u001b[0m \u001b[0mobject\u001b[0m\u001b[1;33m.\u001b[0m\u001b[0m__getattribute__\u001b[0m\u001b[1;33m(\u001b[0m\u001b[0mself\u001b[0m\u001b[1;33m,\u001b[0m \u001b[0mname\u001b[0m\u001b[1;33m)\u001b[0m\u001b[1;33m\u001b[0m\u001b[1;33m\u001b[0m\u001b[0m\n\u001b[0m\u001b[0;32m   4377\u001b[0m \u001b[1;33m\u001b[0m\u001b[0m\n\u001b[0;32m   4378\u001b[0m     \u001b[1;32mdef\u001b[0m \u001b[0m__setattr__\u001b[0m\u001b[1;33m(\u001b[0m\u001b[0mself\u001b[0m\u001b[1;33m,\u001b[0m \u001b[0mname\u001b[0m\u001b[1;33m,\u001b[0m \u001b[0mvalue\u001b[0m\u001b[1;33m)\u001b[0m\u001b[1;33m:\u001b[0m\u001b[1;33m\u001b[0m\u001b[1;33m\u001b[0m\u001b[0m\n",
      "\u001b[1;31mAttributeError\u001b[0m: 'DataFrame' object has no attribute 'ratio'"
     ]
    }
   ],
   "source": [
    "# Make a merged prediction for each tree\n",
    "final_fall_prob = data_prob.fallprob*data_prob.ratio + nw_data_prob.fallprob * (1-data_prob.ratio)"
   ]
  },
  {
   "cell_type": "code",
   "execution_count": null,
   "metadata": {},
   "outputs": [],
   "source": [
    "final_fall_prob.hist()"
   ]
  },
  {
   "cell_type": "code",
   "execution_count": 143,
   "metadata": {},
   "outputs": [],
   "source": [
    "# create the final output table to send to SQL\n",
    "final_table = data_prob.copy()\n",
    "final_table.drop(['ratio','fallprob'],axis=1,inplace=True)\n",
    "final_table['fallprob'] = final_fall_prob"
   ]
  },
  {
   "cell_type": "code",
   "execution_count": 150,
   "metadata": {},
   "outputs": [],
   "source": [
    "# round long decimals\n",
    "final_table.heightroof=final_table.heightroof.astype(int)\n",
    "final_table.fallprob = final_table.fallprob.round(decimals=2)\n",
    "final_table.tree_id = final_table.tree_id.astype(int)"
   ]
  },
  {
   "cell_type": "code",
   "execution_count": 208,
   "metadata": {},
   "outputs": [],
   "source": [
    "# drop any rows where fallprob is nan\n",
    "final_table = final_table[pd.notnull(final_table['fallprob'])]"
   ]
  },
  {
   "cell_type": "code",
   "execution_count": 209,
   "metadata": {},
   "outputs": [],
   "source": [
    "# save to csv\n",
    "final_table.to_csv('Data/FinalOutputs/final_table.csv')"
   ]
  },
  {
   "cell_type": "code",
   "execution_count": 210,
   "metadata": {},
   "outputs": [],
   "source": [
    "# copy data to AWS RDS postgreSQL database\n",
    "# Import postgres connection info\n",
    "import PostgresAWScodes\n",
    "\n",
    "con = None\n",
    "con = psycopg2.connect(password=pwd, port=port,user=user,host=host)\n",
    "cursor = con.cursor()\n",
    "\n",
    "with open(r'Data/FinalOutputs/final_table.csv', 'r') as row:\n",
    "    next(row)\n",
    "    cursor.copy_from(row, 'finaltable', sep=',')\n",
    "    \n",
    "con.commit() "
   ]
  },
  {
   "cell_type": "code",
   "execution_count": 217,
   "metadata": {},
   "outputs": [],
   "source": [
    "# Make dataset of trees > 0.75 fall probability for the map\n",
    "high_risk_trees = final_table[final_table['fallprob']>=0.75]\n",
    "high_risk_zips=high_risk_trees.groupby('zipcode').count().tree_id\n",
    "high_risk_zips.to_csv('Data/FinalOutputs/high_risk_zips.csv',index=True)"
   ]
  },
  {
   "cell_type": "code",
   "execution_count": 226,
   "metadata": {},
   "outputs": [],
   "source": [
    "# join lat lon to final table to output tree maps with fall probabilities\n",
    "df_imp_bldghght = pd.read_csv('data_with_imp_bldghght.csv',index_col='tree_id')\n",
    "df_imp_bldghght.drop(['rvalue_1', 'heightroof','address','block_id', 'created_at', 'curb_loc', 'guards', 'health',\n",
    "       'problems', 'root_grate', 'root_other',''\n",
    "       'root_stone', 'sidewalk', 'spc_common', 'status', 'steward', 'tree_dbh',\n",
    "       'trnk_light', 'trnk_other', 'trnk_wire', 'zipcode'],axis=1,inplace=True)\n",
    "df_imp_bldghght.reset_index(inplace=True)"
   ]
  },
  {
   "cell_type": "code",
   "execution_count": 231,
   "metadata": {},
   "outputs": [],
   "source": [
    "# merge final table and lat lon data\n",
    "map_table = final_table.merge(df_imp_bldghght,how='inner',left_on='tree_id',right_on='tree_id')\n",
    "map_table.drop_duplicates(inplace=True)"
   ]
  },
  {
   "cell_type": "code",
   "execution_count": 244,
   "metadata": {},
   "outputs": [],
   "source": [
    "# export \n",
    "map_table.to_csv('Data/FinalOutputs/map_table.csv')"
   ]
  },
  {
   "cell_type": "code",
   "execution_count": 249,
   "metadata": {},
   "outputs": [
    {
     "data": {
      "image/png": "[encoded data removed]",
      "text/plain": [
       "<Figure size 432x288 with 1 Axes>"
      ]
     },
     "metadata": {
      "needs_background": "light"
     },
     "output_type": "display_data"
    }
   ],
   "source": [
    "# Create a histogram of the distributions of all probability for different models\n",
    "x1 = data_prob.fallprob\n",
    "x2 = nw_data_prob.fallprob\n",
    "\n",
    "kwargs = dict(alpha=0.5, bins=100)\n",
    "\n",
    "plt.hist(x1, **kwargs, color='r', label='Warn Model')\n",
    "plt.hist(x2, **kwargs, color='g', label='No Warn Model')\n",
    "plt.gca().set(title='Frequency Histogram of Tree Branch Fall Probabilities', ylabel='Frequency')\n",
    "#plt.xlim(50,75)\n",
    "plt.axvline(x=.75,color='k')\n",
    "plt.legend();"
   ]
  },
  {
   "cell_type": "code",
   "execution_count": 252,
   "metadata": {},
   "outputs": [
    {
     "data": {
      "text/plain": [
       "26848"
      ]
     },
     "execution_count": 252,
     "metadata": {},
     "output_type": "execute_result"
    }
   ],
   "source": [
    "# Check counts of trees with fall prb > .75 in two models\n",
    "nw_data_prob[nw_data_prob.fallprob>0.75].tree_id.count()-data_prob[data_prob.fallprob>0.75].tree_id.count()\n"
   ]
  }
 ],
 "metadata": {
  "kernelspec": {
   "display_name": "Python 3",
   "language": "python",
   "name": "python3"
  },
  "language_info": {
   "codemirror_mode": {
    "name": "ipython",
    "version": 3
   },
   "file_extension": ".py",
   "mimetype": "text/x-python",
   "name": "python",
   "nbconvert_exporter": "python",
   "pygments_lexer": "ipython3",
   "version": "3.7.4"
  }
 },
 "nbformat": 4,
 "nbformat_minor": 2
}
