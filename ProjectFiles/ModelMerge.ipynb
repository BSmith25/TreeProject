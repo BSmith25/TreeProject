{
 "cells": [
  {
   "cell_type": "markdown",
   "metadata": {},
   "source": [
    "# Step 3, ModelMerge: Merge the branch fall probabilites from the two models (with and without service requests) and create SQL database\n",
    "** Note that throughout this and other jupyter notebooks, the following terminology is used:\n",
    "- falls: refer to fallen branches (from the 311 service request dataset) since 2015\n",
    "- service requests: refer to 311 service requests for damaged trees or overhanging branches (but NOT fallen branches) since 2015\n",
    "- tree census: refers to the 2015 NYC Street Tree Census"
   ]
  },
  {
   "cell_type": "markdown",
   "metadata": {},
   "source": [
    "Packages"
   ]
  },
  {
   "cell_type": "code",
   "execution_count": 29,
   "metadata": {},
   "outputs": [],
   "source": [
    "# Import packages\n",
    "%matplotlib inline\n",
    "import pandas as pd\n",
    "import geopandas\n",
    "import numpy as np\n",
    "import matplotlib.pyplot as plt\n",
    "import psycopg2\n",
    "from sqlalchemy import create_engine"
   ]
  },
  {
   "cell_type": "markdown",
   "metadata": {},
   "source": [
    "### Import datasets\n",
    "Import data from the model with service requests and the model without service requests and import service requests per fall by zipcode data"
   ]
  },
  {
   "cell_type": "code",
   "execution_count": 2,
   "metadata": {},
   "outputs": [],
   "source": [
    "#Import model branch fall prediction data\n",
    "# With service requests\n",
    "SR_prob_df = pd.read_csv('Data/FinalOutputs/ServiceRequestModelOutput.csv',index_col='tree_id')\n",
    "# Without service requests\n",
    "no_SR_prob_df = pd.read_csv('Data/FinalOutputs/NoServiceRequestModelOutput.csv',index_col='tree_id')\n",
    "\n",
    "# Import service request/fall by zipcode ratios\n",
    "# This data is a shapefile and can be opened as a geodataframe\n",
    "SR_fall_ratio_df = geopandas.read_file('Data/spatialdatasets/Fall_Count.shp')\n",
    "# USe only the zipcode and service requests per fall data\n",
    "SR_fall_ratio = SR_fall_ratio_df[['ZIPCODE','DamperFall']]"
   ]
  },
  {
   "cell_type": "markdown",
   "metadata": {},
   "source": [
    "### Create normalized service request to fall ratios \n",
    "Weight fall probabilities from the models based on the normalized SR to fall ratio for the tree's zipcode"
   ]
  },
  {
   "cell_type": "code",
   "execution_count": 33,
   "metadata": {},
   "outputs": [
    {
     "name": "stderr",
     "output_type": "stream",
     "text": [
      "C:\\Users\\brian\\.conda\\envs\\insight\\lib\\site-packages\\pandas\\core\\indexing.py:480: SettingWithCopyWarning: \n",
      "A value is trying to be set on a copy of a slice from a DataFrame.\n",
      "Try using .loc[row_indexer,col_indexer] = value instead\n",
      "\n",
      "See the caveats in the documentation: http://pandas.pydata.org/pandas-docs/stable/user_guide/indexing.html#returning-a-view-versus-a-copy\n",
      "  self.obj[item] = s\n"
     ]
    }
   ],
   "source": [
    "# Find the max service request per fall ratio for normalization use 2nd largest ratio because max is much bigger than the 2nd largest\n",
    "max_SR_fall_ratio = SR_fall_ratio['DamperFall'].nlargest(n=2).iloc[1]\n",
    "\n",
    "# Set largest ratio to the value of the 2nd largest \n",
    "SR_fall_ratio.loc[16,'DamperFall'] = max_SR_fall_ratio"
   ]
  },
  {
   "cell_type": "code",
   "execution_count": 34,
   "metadata": {},
   "outputs": [],
   "source": [
    "# Create normalized service request to fall ratios to be the model merge ratios\n",
    "model_merge_ratio = pd.DataFrame()\n",
    "model_merge_ratio['zipcode'] = SR_fall_ratio['ZIPCODE']\n",
    "model_merge_ratio['ratio'] = SR_fall_ratio['DamperFall']/max_SR_fall_ratio"
   ]
  },
  {
   "cell_type": "code",
   "execution_count": 35,
   "metadata": {},
   "outputs": [
    {
     "data": {
      "text/plain": [
       "<matplotlib.axes._subplots.AxesSubplot at 0x15220d5c8c8>"
      ]
     },
     "execution_count": 35,
     "metadata": {},
     "output_type": "execute_result"
    },
    {
     "data": {
      "image/png": "[encoded data removed]",
      "text/plain": [
       "<Figure size 432x288 with 1 Axes>"
      ]
     },
     "metadata": {
      "needs_background": "light"
     },
     "output_type": "display_data"
    }
   ],
   "source": [
    "# check that the ratios look reasonable\n",
    "model_merge_ratio['ratio'].hist()"
   ]
  },
  {
   "cell_type": "markdown",
   "metadata": {},
   "source": [
    "### Merge the two models (with and without service requests)\n",
    "Merge by weighting branch fall probabilities with the model merge ratios"
   ]
  },
  {
   "cell_type": "code",
   "execution_count": 36,
   "metadata": {},
   "outputs": [],
   "source": [
    "# Change zipcode to an int so it can be merged with the model output data\n",
    "model_merge_ratio['zipcode'] = model_merge_ratio.zipcode.astype(int)"
   ]
  },
  {
   "cell_type": "code",
   "execution_count": 37,
   "metadata": {},
   "outputs": [],
   "source": [
    "# Join the model merge ratios to model outputs\n",
    "SR_prob_df = SR_prob_df.merge(model_merge_ratio,how='left',right_on='zipcode',left_on='zipcode')\n",
    "no_SR_prob_df = no_SR_prob_df.merge(model_merge_ratio,how='left',right_on='zipcode',left_on='zipcode')\n",
    "\n",
    "# Then sort both dataframes on tree_id to make sure they match (the test train split may have messed up the order)\n",
    "SR_prob_df.sort_values(by='tree_id',axis=1,inplace=True)\n",
    "no_SR_prob_df.sort_values(by='tree_id',axis=1,inplace=True)"
   ]
  },
  {
   "cell_type": "code",
   "execution_count": 57,
   "metadata": {},
   "outputs": [],
   "source": [
    "# Make a merged prediction for each tree\n",
    "final_fall_prob = SR_prob_df.fallprob*SR_prob_df.ratio + no_SR_prob_df.fallprob * (1-no_SR_prob_df.ratio)"
   ]
  },
  {
   "cell_type": "markdown",
   "metadata": {},
   "source": [
    "### Export branch fall probability data to SQL"
   ]
  },
  {
   "cell_type": "code",
   "execution_count": 59,
   "metadata": {},
   "outputs": [],
   "source": [
    "# create the final output table to send to SQL\n",
    "final_table = SR_prob_df.copy()\n",
    "final_table.drop(['ratio','fallprob'],axis=1,inplace=True)\n",
    "final_table['fallprob'] = final_fall_prob"
   ]
  },
  {
   "cell_type": "code",
   "execution_count": 60,
   "metadata": {},
   "outputs": [],
   "source": [
    "# round long decimals\n",
    "final_table.heightroof=final_table.heightroof.astype(int)\n",
    "final_table.fallprob = final_table.fallprob.round(decimals=2)\n",
    "final_table.tree_id = final_table.tree_id.astype(int)"
   ]
  },
  {
   "cell_type": "code",
   "execution_count": 61,
   "metadata": {},
   "outputs": [],
   "source": [
    "# drop any rows where fallprob is nan\n",
    "final_table = final_table[pd.notnull(final_table['fallprob'])]"
   ]
  },
  {
   "cell_type": "code",
   "execution_count": 209,
   "metadata": {},
   "outputs": [],
   "source": [
    "# save to csv\n",
    "final_table.to_csv('Data/FinalOutputs/final_table.csv')"
   ]
  },
  {
   "cell_type": "code",
   "execution_count": 210,
   "metadata": {},
   "outputs": [],
   "source": [
    "# copy data to AWS RDS postgreSQL database\n",
    "# Import postgres connection info (mine has been taken out)\n",
    "import PostgresAWScodes\n",
    "\n",
    "con = None\n",
    "con = psycopg2.connect(password=pwd, port=port,user=user,host=host)\n",
    "cursor = con.cursor()\n",
    "\n",
    "with open(r'Data/FinalOutputs/final_table.csv', 'r') as row:\n",
    "    next(row)\n",
    "    cursor.copy_from(row, 'finaltable', sep=',')\n",
    "    \n",
    "con.commit() "
   ]
  },
  {
   "cell_type": "markdown",
   "metadata": {},
   "source": [
    "### Make outputs for maps to be in app"
   ]
  },
  {
   "cell_type": "code",
   "execution_count": 217,
   "metadata": {},
   "outputs": [],
   "source": [
    "# Make dataset of trees > 0.75 fall probability for the map\n",
    "high_risk_trees = final_table[final_table['fallprob']>=0.75]\n",
    "high_risk_zips=high_risk_trees.groupby('zipcode').count().tree_id\n",
    "high_risk_zips.to_csv('Data/FinalOutputs/high_risk_zips.csv',index=True)"
   ]
  },
  {
   "cell_type": "code",
   "execution_count": 44,
   "metadata": {},
   "outputs": [],
   "source": [
    "# join lat lon to final table to output tree maps with fall probabilities\n",
    "df_imp_bldghght = pd.read_csv('Data/spatialdatasets/data_with_imp_bldghght.csv',index_col='tree_id')\n",
    "df_imp_bldghght.drop(['rvalue_1', 'heightroof','address','block_id', 'created_at', 'curb_loc', 'guards', 'health',\n",
    "       'problems', 'root_grate', 'root_other',''\n",
    "       'root_stone', 'sidewalk', 'spc_common', 'status', 'steward', 'tree_dbh',\n",
    "       'trnk_light', 'trnk_other', 'trnk_wire', 'zipcode'],axis=1,inplace=True)\n",
    "df_imp_bldghght.reset_index(inplace=True)"
   ]
  },
  {
   "cell_type": "code",
   "execution_count": 45,
   "metadata": {},
   "outputs": [],
   "source": [
    "# merge final table and lat lon data\n",
    "map_table = final_table.merge(df_imp_bldghght,how='inner',left_on='tree_id',right_on='tree_id')\n",
    "map_table.drop_duplicates(inplace=True)"
   ]
  },
  {
   "cell_type": "code",
   "execution_count": 244,
   "metadata": {},
   "outputs": [],
   "source": [
    "# export \n",
    "map_table.to_csv('Data/FinalOutputs/map_table.csv')"
   ]
  },
  {
   "cell_type": "markdown",
   "metadata": {},
   "source": [
    "### Create plots for demo"
   ]
  },
  {
   "cell_type": "code",
   "execution_count": 72,
   "metadata": {},
   "outputs": [
    {
     "data": {
      "image/png": "[encoded data removed]",
      "text/plain": [
       "<Figure size 432x288 with 1 Axes>"
      ]
     },
     "metadata": {
      "needs_background": "light"
     },
     "output_type": "display_data"
    }
   ],
   "source": [
    "# Create a histogram of the distributions of all probability for different models\n",
    "x1 = SR_prob_df.fallprob\n",
    "x2 = no_SR_prob_df.fallprob\n",
    "\n",
    "kwargs = dict(alpha=0.5, bins=100)\n",
    "\n",
    "plt.hist(x1, **kwargs, color='r', label='Service Request Model')\n",
    "plt.hist(x2, **kwargs, color='g', label='No Service Request Model')\n",
    "plt.gca().set(title='Frequency Histogram of Tree Branch Fall Probabilities', ylabel='Frequency',xlabel='Predicted Fall Probabilities')\n",
    "#plt.xlim(50,75)\n",
    "plt.axvline(x=.5,color='k')\n",
    "plt.legend();"
   ]
  },
  {
   "cell_type": "code",
   "execution_count": 84,
   "metadata": {},
   "outputs": [
    {
     "data": {
      "text/plain": [
       "36097"
      ]
     },
     "execution_count": 84,
     "metadata": {},
     "output_type": "execute_result"
    }
   ],
   "source": [
    "# Check counts of trees with fall prb > .5 in two models\n",
    "nw_data_prob[nw_data_prob.fallprob>0.5].tree_id.count()-data_prob[data_prob.fallprob>0.5].tree_id.count()\n"
   ]
  },
  {
   "cell_type": "code",
   "execution_count": 100,
   "metadata": {},
   "outputs": [
    {
     "data": {
      "text/plain": [
       "<matplotlib.axes._subplots.AxesSubplot at 0x1522b8c1548>"
      ]
     },
     "execution_count": 100,
     "metadata": {},
     "output_type": "execute_result"
    },
    {
     "data": {
      "image/png": "[encoded data removed]",
      "text/plain": [
       "<Figure size 432x288 with 1 Axes>"
      ]
     },
     "metadata": {
      "needs_background": "light"
     },
     "output_type": "display_data"
    }
   ],
   "source": [
    "# Check how guards influenced predicted fall probability\n",
    "map_table.boxplot(by='guards',column=['fallprob'])"
   ]
  }
 ],
 "metadata": {
  "kernelspec": {
   "display_name": "Python 3",
   "language": "python",
   "name": "python3"
  },
  "language_info": {
   "codemirror_mode": {
    "name": "ipython",
    "version": 3
   },
   "file_extension": ".py",
   "mimetype": "text/x-python",
   "name": "python",
   "nbconvert_exporter": "python",
   "pygments_lexer": "ipython3",
   "version": "3.7.4"
  }
 },
 "nbformat": 4,
 "nbformat_minor": 2
}
