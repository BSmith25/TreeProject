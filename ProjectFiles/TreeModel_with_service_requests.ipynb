{
 "cells": [
  {
   "cell_type": "markdown",
   "metadata": {},
   "source": [
    "# Step 3, TreeModel_with_service_requests: Create a Random Forest Model to predict street tree falls USING service requests\n",
    "** Note that throughout this and other jupyter notebooks, the following terminology is used:\n",
    "- falls: refer to fallen branches (from the 311 service request dataset) since 2015\n",
    "- service requests: refer to 311 service requests for damaged trees or overhanging branches (but NOT fallen branches) since 2015\n",
    "- tree census: refers to the 2015 NYC Street Tree Census"
   ]
  },
  {
   "cell_type": "markdown",
   "metadata": {},
   "source": [
    "Packages"
   ]
  },
  {
   "cell_type": "code",
   "execution_count": 1,
   "metadata": {},
   "outputs": [],
   "source": [
    "# Import packages\n",
    "%matplotlib inline\n",
    "import category_encoders as ce\n",
    "import pandas as pd\n",
    "import numpy as np\n",
    "import matplotlib.pyplot as plt\n",
    "from sklearn import tree\n",
    "from sklearn.ensemble import RandomForestClassifier\n",
    "from sklearn.model_selection import train_test_split\n",
    "from sklearn.metrics import accuracy_score\n",
    "from sklearn.metrics import confusion_matrix\n",
    "from sklearn.metrics import roc_auc_score\n",
    "from sklearn.model_selection import GridSearchCV\n",
    "from sklearn.metrics import precision_recall_curve\n",
    "from inspect import signature"
   ]
  },
  {
   "cell_type": "markdown",
   "metadata": {},
   "source": [
    "### Import model data from DataJoin"
   ]
  },
  {
   "cell_type": "code",
   "execution_count": null,
   "metadata": {},
   "outputs": [],
   "source": [
    "model_data_df = pd.read_csv('Data/Intermediate/model_data.csv',index_col='tree_id')"
   ]
  },
  {
   "cell_type": "markdown",
   "metadata": {},
   "source": [
    "### Edit model data for modeling\n",
    "Encode categorical data"
   ]
  },
  {
   "cell_type": "code",
   "execution_count": 7,
   "metadata": {},
   "outputs": [
    {
     "name": "stderr",
     "output_type": "stream",
     "text": [
      "C:\\Users\\brian\\.conda\\envs\\insight\\lib\\site-packages\\ipykernel_launcher.py:25: SettingWithCopyWarning: \n",
      "A value is trying to be set on a copy of a slice from a DataFrame.\n",
      "Try using .loc[row_indexer,col_indexer] = value instead\n",
      "\n",
      "See the caveats in the documentation: http://pandas.pydata.org/pandas-docs/stable/user_guide/indexing.html#returning-a-view-versus-a-copy\n",
      "C:\\Users\\brian\\.conda\\envs\\insight\\lib\\site-packages\\ipykernel_launcher.py:26: SettingWithCopyWarning: \n",
      "A value is trying to be set on a copy of a slice from a DataFrame.\n",
      "Try using .loc[row_indexer,col_indexer] = value instead\n",
      "\n",
      "See the caveats in the documentation: http://pandas.pydata.org/pandas-docs/stable/user_guide/indexing.html#returning-a-view-versus-a-copy\n"
     ]
    }
   ],
   "source": [
    "# Encode categorical dataa\n",
    "\n",
    "# First convert all Yes/No and True/False columns to 1/0\n",
    "model_data_df.replace({'No': 0, 'Yes': 1},value=None,inplace=True)\n",
    "model_data_df.replace({False: 0, True: 1},value=None,inplace=True)\n",
    "model_data_df.replace(np.nan,0,inplace=True)\n",
    "\n",
    "# Now convert all 2 option columns to 1/0\n",
    "model_data_df.curb_loc.replace({'OnCurb':1, 'OffsetFromCurb':0},value=None,inplace=True)\n",
    "model_data_df.sidewalk.replace({'Damage':1, 'NoDamage':0},value=None,inplace=True)\n",
    "model_data_df.Fall.replace('Branch or Limb Has Fallen Down',1,inplace=True)\n",
    "\n",
    "# Replace health, steward, and guards columns with numerical levels\n",
    "model_data_df.health.replace({'Poor':0,'Fair':1,'Good':2},value=None,inplace=True)\n",
    "model_data_df.steward.replace({'None':0,'1or2':1,'3or4':2,'4orMore':3},value=None,inplace=True)\n",
    "model_data_df.guards.replace({'Harmful':0,'None':1,'Unsure':2,'Helpful':4},value=None,inplace=True)\n",
    "\n",
    "# Target encode tree species descriptor data\n",
    "# First split train and test data to prevent data leakage\n",
    "df_train, df_test = train_test_split(model_data_df, random_state=1,test_size=0.2)\n",
    "\n",
    "# Now, target encode training and test data based on training data encoding\n",
    "target_dict = df_train.groupby('spc_common')['Fall'].mean()\n",
    "df_train['spc_common'] = df_train['spc_common'].map(target_dict)\n",
    "df_test['spc_common'] = df_test['spc_common'].map(target_dict)\n"
   ]
  },
  {
   "cell_type": "markdown",
   "metadata": {},
   "source": [
    "### Fit a Random Forest to the features with service requests\n",
    "Note that parameters were set by gridesearch, gridsearch code was moved to the bottom of the notebook.  The threshold was checked using a precision-recall curve, the code for this was also moved to the bottom of the notebook."
   ]
  },
  {
   "cell_type": "code",
   "execution_count": null,
   "metadata": {},
   "outputs": [],
   "source": [
    "# First set a feature dataframe (x) and a target (y)\n",
    "x_train = df_train.drop(['zipcode','Fall','address'],axis=1)\n",
    "y_train = df_train.Fall\n",
    "\n",
    "# Fit a random forest model\n",
    "forest = RandomForestClassifier(n_jobs=-1,class_weight='balanced_subsample',random_state = 1, max_depth = 10, n_estimators = 300)\n",
    "model = forest.fit(x_train, y_train)"
   ]
  },
  {
   "cell_type": "markdown",
   "metadata": {},
   "source": [
    "### Find feature importances of the model"
   ]
  },
  {
   "cell_type": "code",
   "execution_count": 8,
   "metadata": {},
   "outputs": [
    {
     "name": "stderr",
     "output_type": "stream",
     "text": [
      "C:\\Users\\brian\\.conda\\envs\\insight\\lib\\site-packages\\ipykernel_launcher.py:3: SettingWithCopyWarning: \n",
      "A value is trying to be set on a copy of a slice from a DataFrame.\n",
      "Try using .loc[row_indexer,col_indexer] = value instead\n",
      "\n",
      "See the caveats in the documentation: http://pandas.pydata.org/pandas-docs/stable/user_guide/indexing.html#returning-a-view-versus-a-copy\n",
      "  This is separate from the ipykernel package so we can avoid doing imports until\n",
      "C:\\Users\\brian\\.conda\\envs\\insight\\lib\\site-packages\\ipykernel_launcher.py:4: SettingWithCopyWarning: \n",
      "A value is trying to be set on a copy of a slice from a DataFrame.\n",
      "Try using .loc[row_indexer,col_indexer] = value instead\n",
      "\n",
      "See the caveats in the documentation: http://pandas.pydata.org/pandas-docs/stable/user_guide/indexing.html#returning-a-view-versus-a-copy\n",
      "  after removing the cwd from sys.path.\n"
     ]
    },
    {
     "name": "stdout",
     "output_type": "stream",
     "text": [
      "Feature ranking:\n",
      "1. feature heightroof (0.523761)\n",
      "2. feature tree_dbh (0.206190)\n",
      "3. feature spc_common (0.132158)\n",
      "4. feature impervious_pct (0.031277)\n",
      "5. feature guards (0.019397)\n",
      "6. feature health (0.018552)\n",
      "7. feature root_stone (0.018113)\n",
      "8. feature sidewalk (0.017275)\n",
      "9. feature curb_loc (0.014069)\n",
      "10. feature steward (0.009848)\n",
      "11. feature root_other (0.002946)\n",
      "12. feature trnk_other (0.002913)\n",
      "13. feature trnk_wire (0.001771)\n",
      "14. feature root_grate (0.001209)\n",
      "15. feature trnk_light (0.000519)\n"
     ]
    },
    {
     "data": {
      "image/png": "[encoded data removed]",
      "text/plain": [
       "<Figure size 432x288 with 1 Axes>"
      ]
     },
     "metadata": {
      "needs_background": "light"
     },
     "output_type": "display_data"
    }
   ],
   "source": [
    "# Check feature importance random forest model\n",
    "importances = forest.feature_importances_\n",
    "std = np.std([tree.feature_importances_ for tree in forest.estimators_],axis=0)\n",
    "indices = np.argsort(importances)[::-1]\n",
    "\n",
    "# Print the feature ranking\n",
    "print(\"Feature ranking:\")\n",
    "\n",
    "for f in range(x_train.shape[1]):\n",
    "    print(\"%d. feature %s (%f)\" % (f + 1, x_train.columns[indices[f]], importances[indices[f]]))\n",
    "\n",
    "# Plot the feature importances of the forest\n",
    "plt.figure()\n",
    "plt.title(\"Feature importances\")\n",
    "plt.bar(range(x_train.shape[1]), importances[indices],\n",
    "       color=\"r\", yerr=std[indices], align=\"center\")\n",
    "plt.xticks(range(x_train.shape[1]), indices)\n",
    "plt.xlim([-1, x_train.shape[1]])\n",
    "plt.show()"
   ]
  },
  {
   "cell_type": "markdown",
   "metadata": {},
   "source": [
    "### Check model metrics\n",
    "Recall is most important to ensure dangerous trees are mantained, we don't want to miss tree branches that will fall!"
   ]
  },
  {
   "cell_type": "code",
   "execution_count": null,
   "metadata": {},
   "outputs": [],
   "source": [
    "# Generate target predictions using the random forest model with the specified threshold (0.5 now)\n",
    "x_test = dt_test.drop(['zipcode','Fall','address'],axis=1)\n",
    "y_test = dt_test.Fall\n",
    "y_pred = (forest.predict_proba(x_test)[:,1] >= 0.5).astype(bool)"
   ]
  },
  {
   "cell_type": "code",
   "execution_count": 27,
   "metadata": {},
   "outputs": [
    {
     "data": {
      "text/plain": [
       "0.7450412330525166"
      ]
     },
     "execution_count": 27,
     "metadata": {},
     "output_type": "execute_result"
    }
   ],
   "source": [
    "# Check accuracy of model on test data\n",
    "accuracy_score(y_test,y_pred)"
   ]
  },
  {
   "cell_type": "code",
   "execution_count": 25,
   "metadata": {},
   "outputs": [
    {
     "data": {
      "text/plain": [
       "0.7630665493474108"
      ]
     },
     "execution_count": 25,
     "metadata": {},
     "output_type": "execute_result"
    }
   ],
   "source": [
    "# Check ROC-AUC for model on test data\n",
    "roc_auc_score(y_test,y_pred)"
   ]
  },
  {
   "cell_type": "code",
   "execution_count": 26,
   "metadata": {},
   "outputs": [
    {
     "data": {
      "text/html": [
       "<div>\n",
       "<style scoped>\n",
       "    .dataframe tbody tr th:only-of-type {\n",
       "        vertical-align: middle;\n",
       "    }\n",
       "\n",
       "    .dataframe tbody tr th {\n",
       "        vertical-align: top;\n",
       "    }\n",
       "\n",
       "    .dataframe thead th {\n",
       "        text-align: right;\n",
       "    }\n",
       "</style>\n",
       "<table border=\"1\" class=\"dataframe\">\n",
       "  <thead>\n",
       "    <tr style=\"text-align: right;\">\n",
       "      <th></th>\n",
       "      <th>Predicted No Fall</th>\n",
       "      <th>Predicted Fall</th>\n",
       "    </tr>\n",
       "  </thead>\n",
       "  <tbody>\n",
       "    <tr>\n",
       "      <th>True No Fall</th>\n",
       "      <td>113962</td>\n",
       "      <td>39209</td>\n",
       "    </tr>\n",
       "    <tr>\n",
       "      <th>True Fall</th>\n",
       "      <td>921</td>\n",
       "      <td>3306</td>\n",
       "    </tr>\n",
       "  </tbody>\n",
       "</table>\n",
       "</div>"
      ],
      "text/plain": [
       "              Predicted No Fall  Predicted Fall\n",
       "True No Fall             113962           39209\n",
       "True Fall                   921            3306"
      ]
     },
     "execution_count": 26,
     "metadata": {},
     "output_type": "execute_result"
    }
   ],
   "source": [
    "# Check confusion matrix for model on test data\n",
    "pd.DataFrame(\n",
    "    confusion_matrix(y_test, y_pred),\n",
    "    columns=['Predicted No Fall', 'Predicted Fall'],\n",
    "    index=['True No Fall', 'True Fall']\n",
    ")"
   ]
  },
  {
   "cell_type": "markdown",
   "metadata": {},
   "source": [
    "### Generate tree branch fall probabilities from the no service request model\n",
    "Then save these in an output file"
   ]
  },
  {
   "cell_type": "code",
   "execution_count": 153,
   "metadata": {},
   "outputs": [],
   "source": [
    "# Calculate Fall probabilities of train and test trees from the no service request model\n",
    "prob_train = forest.predict_proba(x_train)\n",
    "prob_test = forest.predict_proba(x_test)"
   ]
  },
  {
   "cell_type": "code",
   "execution_count": 154,
   "metadata": {},
   "outputs": [
    {
     "name": "stderr",
     "output_type": "stream",
     "text": [
      "C:\\Users\\Brianne\\Anaconda3\\lib\\site-packages\\ipykernel_launcher.py:4: SettingWithCopyWarning: \n",
      "A value is trying to be set on a copy of a slice from a DataFrame.\n",
      "Try using .loc[row_indexer,col_indexer] = value instead\n",
      "\n",
      "See the caveats in the documentation: http://pandas.pydata.org/pandas-docs/stable/indexing.html#indexing-view-versus-copy\n",
      "  after removing the cwd from sys.path.\n",
      "C:\\Users\\Brianne\\Anaconda3\\lib\\site-packages\\ipykernel_launcher.py:5: SettingWithCopyWarning: \n",
      "A value is trying to be set on a copy of a slice from a DataFrame.\n",
      "Try using .loc[row_indexer,col_indexer] = value instead\n",
      "\n",
      "See the caveats in the documentation: http://pandas.pydata.org/pandas-docs/stable/indexing.html#indexing-view-versus-copy\n",
      "  \"\"\"\n"
     ]
    }
   ],
   "source": [
    "# combine the fall probabilities for the train and test trees, then append to other data to add fall probabilities to the tree census data\n",
    "df_train['fallprob'] = prob_train[:,1]\n",
    "df_test['fallprob'] = prob_test[:,1]\n",
    "tree_branch_fall_prob_df = df_train.append(df_test)"
   ]
  },
  {
   "cell_type": "code",
   "execution_count": 159,
   "metadata": {},
   "outputs": [
    {
     "data": {
      "text/plain": [
       "Index(['tree_id', 'address', 'curb_loc', 'guards', 'health', 'root_grate',\n",
       "       'root_other', 'root_stone', 'sidewalk', 'spc_common', 'steward',\n",
       "       'tree_dbh', 'trnk_light', 'trnk_other', 'trnk_wire', 'zipcode',\n",
       "       'impervious_pct', 'heightroof', 'fallprob'],\n",
       "      dtype='object')"
      ]
     },
     "execution_count": 159,
     "metadata": {},
     "output_type": "execute_result"
    }
   ],
   "source": [
    "# drop branch fall data from the tree census data with branch fall probabilities\n",
    "tree_branch_fall_prob_df.drop('Fall',axis=1,inplace=True)"
   ]
  },
  {
   "cell_type": "code",
   "execution_count": 161,
   "metadata": {},
   "outputs": [],
   "source": [
    "# Export data\n",
    "tree_branch_fall_prob_df.to_csv('Data/FinalOutputs/ServiceRequestModelOutput.csv')"
   ]
  },
  {
   "cell_type": "markdown",
   "metadata": {},
   "source": [
    "### Model tuning code\n",
    "Code from model tuning was moved down here, it doesn't need to be re-run for modeling, and would take some time to run"
   ]
  },
  {
   "cell_type": "markdown",
   "metadata": {},
   "source": [
    "Gridsearch:"
   ]
  },
  {
   "cell_type": "code",
   "execution_count": 15,
   "metadata": {},
   "outputs": [
    {
     "name": "stderr",
     "output_type": "stream",
     "text": [
      "C:\\Users\\Brianne\\Anaconda3\\lib\\site-packages\\sklearn\\model_selection\\_split.py:2053: FutureWarning: You should specify a value for 'cv' instead of relying on the default value. The default value will change from 3 to 5 in version 0.22.\n",
      "  warnings.warn(CV_WARNING, FutureWarning)\n"
     ]
    }
   ],
   "source": [
    "#Try gridsearch to train model on 20% of data\n",
    "\n",
    "# The target encoding needs to be updated to prevent data leakage\n",
    "# Target encode tree species descriptor data\n",
    "# First split train and test data to prevent data leakage\n",
    "grid_df_train, grid_df_test = train_test_split(model_data_df, random_state=1,test_size=0.8)\n",
    "\n",
    "# Now, target encode training and test data based on training data encoding\n",
    "grid_target_dict = grid_df_train.groupby('spc_common')['Fall'].mean()\n",
    "grid_df_train['spc_common'] = grid_df_train['spc_common'].map(grid_target_dict)\n",
    "grid_df_test['spc_common'] = grid_df_test['spc_common'].map(grid_target_dict)\n",
    "\n",
    "# Set up feature (x) and target (y) data\n",
    "grid_x_train = grid_dt_train.drop(['zipcode','Fall','address'],axis=1)\n",
    "grid_y_train = grid_dt_train.Fall\n",
    "\n",
    "# Random forest model for grid search\n",
    "grid_forest = RandomForestClassifier(random_state = 1)\n",
    "\n",
    "# Grid search parameters\n",
    "n_estimators = [100, 300]\n",
    "max_depth = [10, 30, 50]\n",
    "class_weight = ['balanced', 'balanced_subsample', None]\n",
    "hyperF = dict(n_estimators = n_estimators, max_depth = max_depth, class_weight=class_weight)\n",
    "\n",
    "# Run grid search\n",
    "gridF = GridSearchCV(grid_forest, hyperF, scoring = ['recall','precision'], n_jobs = -1)\n",
    "gridF.fit(grid_x_train, grid_y_train)\n",
    "\n",
    "# Check grid search results\n",
    "gridF.cv_results_['mean_test_score']\n",
    "\n",
    "# See optimal gridsearch parameters\n",
    "gridF.best_params_\n",
    "\n",
    "# Predict test data\n",
    "grid_x_test = grid_df_test.drop(['zipcode','Fall','address'],axis=1)\n",
    "grid_y_test = grid_df_test.Fall\n",
    "grid_y_pred = gridF.predict(grid_x_test)\n",
    "\n",
    "# check grid search result roc-auc and confusion matrix\n",
    "roc_auc_score(y_test,y_pred)\n",
    "\n",
    "pd.DataFrame(confusion_matrix(y_test, y_pred),\n",
    "    columns=['Predicted No Fall', 'Predicted Fall'],\n",
    "    index=['True No Fall', 'True Fall'])"
   ]
  },
  {
   "cell_type": "code",
   "execution_count": 13,
   "metadata": {},
   "outputs": [
    {
     "data": {
      "text/plain": [
       "Text(0.5, 1.0, '2-class Precision-Recall curve')"
      ]
     },
     "execution_count": 13,
     "metadata": {},
     "output_type": "execute_result"
    },
    {
     "data": {
      "image/png": "[encoded data removed]",
      "text/plain": [
       "<Figure size 432x288 with 1 Axes>"
      ]
     },
     "metadata": {
      "needs_background": "light"
     },
     "output_type": "display_data"
    }
   ],
   "source": [
    "# Check the random forest precision recall curve to look at thresholds\n",
    "\n",
    "# Calculate precision and recall\n",
    "precision, recall, _ = precision_recall_curve(y_train, forest.predict(x_train))\n",
    "\n",
    "# Plot\n",
    "step_kwargs = ({'step': 'post'}\n",
    "               if 'step' in signature(plt.fill_between).parameters\n",
    "               else {})\n",
    "plt.step(recall, precision, color='b', alpha=0.2,\n",
    "         where='post')\n",
    "plt.fill_between(recall, precision, alpha=0.2, color='b', **step_kwargs)\n",
    "\n",
    "plt.xlabel('Recall')\n",
    "plt.ylabel('Precision')\n",
    "plt.ylim([0.0, 1.05])\n",
    "plt.xlim([0.0, 1.0])\n",
    "plt.title('2-class Precision-Recall curve')"
   ]
  },
  {
   "cell_type": "markdown",
   "metadata": {},
   "source": [
    "### EDA \n",
    "Code used to create some of the EDA figures"
   ]
  },
  {
   "cell_type": "code",
   "execution_count": null,
   "metadata": {},
   "outputs": [],
   "source": [
    "# Look at tree species with most falls\n",
    "target_dict.sort_values()[100:133].plot.bar()"
   ]
  }
 ],
 "metadata": {
  "kernelspec": {
   "display_name": "Python 3",
   "language": "python",
   "name": "python3"
  },
  "language_info": {
   "codemirror_mode": {
    "name": "ipython",
    "version": 3
   },
   "file_extension": ".py",
   "mimetype": "text/x-python",
   "name": "python",
   "nbconvert_exporter": "python",
   "pygments_lexer": "ipython3",
   "version": "3.7.4"
  }
 },
 "nbformat": 4,
 "nbformat_minor": 2
}
