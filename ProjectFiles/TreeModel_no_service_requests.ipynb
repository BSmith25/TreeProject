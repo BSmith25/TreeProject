{
 "cells": [
  {
   "cell_type": "markdown",
   "metadata": {},
   "source": [
    "# Step 2, TreeModel_no_service_requests: Create a Random Forest Model to predict street tree falls NOT using service requests\n",
    "** Note that throughout this and other jupyter notebooks, the following terminology is used:\n",
    "- falls: refer to fallen branches (from the 311 service request dataset) since 2015\n",
    "- service requests: refer to 311 service requests for damaged trees or overhanging branches (but NOT fallen branches) since 2015\n",
    "- tree census: refers to the 2015 NYC Street Tree Census"
   ]
  },
  {
   "cell_type": "markdown",
   "metadata": {},
   "source": [
    "Packages"
   ]
  },
  {
   "cell_type": "code",
   "execution_count": 28,
   "metadata": {},
   "outputs": [],
   "source": [
    "# Import packages\n",
    "%matplotlib inline\n",
    "import category_encoders as ce\n",
    "import pandas as pd\n",
    "import numpy as np\n",
    "import matplotlib.pyplot as plt\n",
    "from sklearn import tree\n",
    "from sklearn.ensemble import RandomForestClassifier\n",
    "from sklearn.model_selection import train_test_split\n",
    "from sklearn.metrics import accuracy_score\n",
    "from sklearn.metrics import confusion_matrix\n",
    "from sklearn.metrics import roc_auc_score\n",
    "from sklearn.model_selection import GridSearchCV\n",
    "from sklearn.metrics import precision_recall_curve\n",
    "from inspect import signature\n",
    "from sklearn.metrics import classification_report\n",
    "from imblearn.over_sampling import SMOTE\n",
    "from imblearn.pipeline import Pipeline as imbPipeline"
   ]
  },
  {
   "cell_type": "markdown",
   "metadata": {},
   "source": [
    "### Import model data from DataJoin"
   ]
  },
  {
   "cell_type": "code",
   "execution_count": 29,
   "metadata": {},
   "outputs": [
    {
     "name": "stderr",
     "output_type": "stream",
     "text": [
      "C:\\Users\\brian\\.conda\\envs\\insight\\lib\\site-packages\\IPython\\core\\interactiveshell.py:3058: DtypeWarning: Columns (17,18,19,20,21,22,23) have mixed types. Specify dtype option on import or set low_memory=False.\n",
      "  interactivity=interactivity, compiler=compiler, result=result)\n"
     ]
    }
   ],
   "source": [
    "model_data_df = pd.read_csv('Data/Intermediate/model_data.csv',index_col='tree_id')"
   ]
  },
  {
   "cell_type": "markdown",
   "metadata": {},
   "source": [
    "### Edit model data for modeling\n",
    "Drop service requests and encode categorical data"
   ]
  },
  {
   "cell_type": "code",
   "execution_count": 30,
   "metadata": {},
   "outputs": [],
   "source": [
    "# Drop service request data\n",
    "model_data_df.drop(['Branch Cracked and Will Fall','Tree Leaning/Uprooted', 'Hitting Building',\n",
    "       'Hitting Power/Phone Lines', 'Dead Branches in Tree', 'Blocking Street',\n",
    "       'Tree Alive - in Poor Condition',],axis=1,inplace=True)"
   ]
  },
  {
   "cell_type": "markdown",
   "metadata": {},
   "source": [
    "Encode all categorical data"
   ]
  },
  {
   "cell_type": "code",
   "execution_count": 31,
   "metadata": {},
   "outputs": [
    {
     "name": "stderr",
     "output_type": "stream",
     "text": [
      "C:\\Users\\brian\\.conda\\envs\\insight\\lib\\site-packages\\ipykernel_launcher.py:24: SettingWithCopyWarning: \n",
      "A value is trying to be set on a copy of a slice from a DataFrame.\n",
      "Try using .loc[row_indexer,col_indexer] = value instead\n",
      "\n",
      "See the caveats in the documentation: http://pandas.pydata.org/pandas-docs/stable/user_guide/indexing.html#returning-a-view-versus-a-copy\n",
      "C:\\Users\\brian\\.conda\\envs\\insight\\lib\\site-packages\\ipykernel_launcher.py:25: SettingWithCopyWarning: \n",
      "A value is trying to be set on a copy of a slice from a DataFrame.\n",
      "Try using .loc[row_indexer,col_indexer] = value instead\n",
      "\n",
      "See the caveats in the documentation: http://pandas.pydata.org/pandas-docs/stable/user_guide/indexing.html#returning-a-view-versus-a-copy\n"
     ]
    }
   ],
   "source": [
    "# Encode categorical dataa\n",
    "\n",
    "# First convert all Yes/No and True/False columns to 1/0\n",
    "model_data_df.replace({'No': 0, 'Yes': 1},value=None,inplace=True)\n",
    "model_data_df.replace({False: 0, True: 1},value=None,inplace=True)\n",
    "model_data_df.replace(np.nan,0,inplace=True)\n",
    "\n",
    "# Now convert all 2 option columns to 1/0\n",
    "model_data_df.curb_loc.replace({'OnCurb':1, 'OffsetFromCurb':0},value=None,inplace=True)\n",
    "model_data_df.sidewalk.replace({'Damage':1, 'NoDamage':0},value=None,inplace=True)\n",
    "model_data_df.Fall.replace('Branch or Limb Has Fallen Down',1,inplace=True)\n",
    "\n",
    "# Replace health, steward, and guards columns with numerical levels\n",
    "model_data_df.health.replace({'Poor':0,'Fair':1,'Good':2},value=None,inplace=True)\n",
    "model_data_df.steward.replace({'None':0,'1or2':1,'3or4':2,'4orMore':3},value=None,inplace=True)\n",
    "model_data_df.guards.replace({'Harmful':0,'None':1,'Unsure':2,'Helpful':4},value=None,inplace=True)\n",
    "\n",
    "# Target encode tree species descriptor data\n",
    "# First split train and test data to prevent data leakage\n",
    "df_train, df_test = train_test_split(model_data_df, random_state=1,test_size=0.25)\n",
    "\n",
    "# Now, target encode training and test data based on training data encoding\n",
    "target_dict = df_train.groupby('spc_common')['Fall'].mean()\n",
    "df_train['spc_common'] = df_train['spc_common'].map(target_dict)\n",
    "df_test['spc_common'] = df_test['spc_common'].map(target_dict)\n"
   ]
  },
  {
   "cell_type": "markdown",
   "metadata": {},
   "source": [
    "### Fit a Random Forest to the features without service requests\n",
    "Note that parameters were set by gridesearch, gridsearch code was moved to the bottom of the notebook.  The threshold was checked using a precision-recall curve, the code for this was also moved to the bottom of the notebook."
   ]
  },
  {
   "cell_type": "code",
   "execution_count": 32,
   "metadata": {},
   "outputs": [],
   "source": [
    "# First set a feature dataframe (x) and a target (y)\n",
    "x_train = df_train.drop(['zipcode','Fall','address'],axis=1)\n",
    "y_train = df_train.Fall"
   ]
  },
  {
   "cell_type": "code",
   "execution_count": 33,
   "metadata": {},
   "outputs": [],
   "source": [
    "# Fit a random forest model\n",
    "forest = RandomForestClassifier(n_jobs=-1,class_weight='balanced_subsample',random_state = 1, max_depth = 3, n_estimators = 700,criterion='gini')\n",
    "model = forest.fit(x_train, y_train)"
   ]
  },
  {
   "cell_type": "markdown",
   "metadata": {},
   "source": [
    "### Find feature importances of the model"
   ]
  },
  {
   "cell_type": "code",
   "execution_count": 34,
   "metadata": {},
   "outputs": [
    {
     "name": "stdout",
     "output_type": "stream",
     "text": [
      "Feature ranking:\n",
      "1. feature heightroof (0.497596)\n",
      "2. feature tree_dbh (0.214352)\n",
      "3. feature spc_common (0.161682)\n",
      "4. feature root_stone (0.037990)\n",
      "5. feature sidewalk (0.037102)\n",
      "6. feature curb_loc (0.024781)\n",
      "7. feature guards (0.008686)\n",
      "8. feature impervious_pct (0.008528)\n",
      "9. feature root_other (0.004019)\n",
      "10. feature steward (0.002294)\n",
      "11. feature health (0.001569)\n",
      "12. feature trnk_wire (0.001149)\n",
      "13. feature trnk_other (0.000166)\n",
      "14. feature root_grate (0.000054)\n",
      "15. feature trnk_light (0.000033)\n"
     ]
    },
    {
     "data": {
      "image/png": "[encoded data removed]",
      "text/plain": [
       "<Figure size 432x288 with 1 Axes>"
      ]
     },
     "metadata": {
      "needs_background": "light"
     },
     "output_type": "display_data"
    }
   ],
   "source": [
    "# Check feature importance random forest model\n",
    "importances = forest.feature_importances_\n",
    "std = np.std([tree.feature_importances_ for tree in forest.estimators_],axis=0)\n",
    "indices = np.argsort(importances)[::-1]\n",
    "\n",
    "# Print the feature ranking\n",
    "print(\"Feature ranking:\")\n",
    "\n",
    "for f in range(x_train.shape[1]):\n",
    "    print(\"%d. feature %s (%f)\" % (f + 1, x_train.columns[indices[f]], importances[indices[f]]))\n",
    "\n",
    "# Plot the feature importances of the forest\n",
    "plt.figure()\n",
    "plt.title(\"Feature importances\")\n",
    "plt.bar(range(x_train.shape[1]), importances[indices],\n",
    "       color=\"r\", yerr=std[indices], align=\"center\")\n",
    "plt.xticks(range(x_train.shape[1]), indices)\n",
    "plt.xlim([-1, x_train.shape[1]])\n",
    "plt.show()"
   ]
  },
  {
   "cell_type": "markdown",
   "metadata": {},
   "source": [
    "### Check model metrics\n",
    "Recall is most important to ensure dangerous trees are mantained, we don't want to miss tree branches that will fall!"
   ]
  },
  {
   "cell_type": "code",
   "execution_count": 35,
   "metadata": {},
   "outputs": [],
   "source": [
    "# Generate target predictions using the random forest model with the specified threshold (0.5 now)\n",
    "x_test = df_test.drop(['zipcode','Fall','address'],axis=1)\n",
    "y_test = df_test.Fall\n",
    "y_pred = (forest.predict_proba(x_test)[:,1] >= 0.5).astype(bool)"
   ]
  },
  {
   "cell_type": "code",
   "execution_count": 36,
   "metadata": {},
   "outputs": [
    {
     "data": {
      "text/plain": [
       "0.7202450849309971"
      ]
     },
     "execution_count": 36,
     "metadata": {},
     "output_type": "execute_result"
    }
   ],
   "source": [
    "# Check accuracy of model on test data\n",
    "accuracy_score(y_test,y_pred)"
   ]
  },
  {
   "cell_type": "code",
   "execution_count": 37,
   "metadata": {},
   "outputs": [
    {
     "data": {
      "text/plain": [
       "0.7432497231609885"
      ]
     },
     "execution_count": 37,
     "metadata": {},
     "output_type": "execute_result"
    }
   ],
   "source": [
    "# Check ROC-AUC for model on test data\n",
    "roc_auc_score(y_test,y_pred)"
   ]
  },
  {
   "cell_type": "code",
   "execution_count": 38,
   "metadata": {},
   "outputs": [
    {
     "data": {
      "text/html": [
       "<div>\n",
       "<style scoped>\n",
       "    .dataframe tbody tr th:only-of-type {\n",
       "        vertical-align: middle;\n",
       "    }\n",
       "\n",
       "    .dataframe tbody tr th {\n",
       "        vertical-align: top;\n",
       "    }\n",
       "\n",
       "    .dataframe thead th {\n",
       "        text-align: right;\n",
       "    }\n",
       "</style>\n",
       "<table border=\"1\" class=\"dataframe\">\n",
       "  <thead>\n",
       "    <tr style=\"text-align: right;\">\n",
       "      <th></th>\n",
       "      <th>Predicted No Fall</th>\n",
       "      <th>Predicted Fall</th>\n",
       "    </tr>\n",
       "  </thead>\n",
       "  <tbody>\n",
       "    <tr>\n",
       "      <th>True No Fall</th>\n",
       "      <td>120777</td>\n",
       "      <td>47178</td>\n",
       "    </tr>\n",
       "    <tr>\n",
       "      <th>True Fall</th>\n",
       "      <td>946</td>\n",
       "      <td>3121</td>\n",
       "    </tr>\n",
       "  </tbody>\n",
       "</table>\n",
       "</div>"
      ],
      "text/plain": [
       "              Predicted No Fall  Predicted Fall\n",
       "True No Fall             120777           47178\n",
       "True Fall                   946            3121"
      ]
     },
     "execution_count": 38,
     "metadata": {},
     "output_type": "execute_result"
    }
   ],
   "source": [
    "# Check confusion matrix for model on test data\n",
    "pd.DataFrame(confusion_matrix(y_test, y_pred),\n",
    "    columns=['Predicted No Fall', 'Predicted Fall'],\n",
    "    index=['True No Fall', 'True Fall'])"
   ]
  },
  {
   "cell_type": "code",
   "execution_count": 39,
   "metadata": {},
   "outputs": [
    {
     "name": "stdout",
     "output_type": "stream",
     "text": [
      "              precision    recall  f1-score   support\n",
      "\n",
      "           0       0.99      0.72      0.83    167955\n",
      "           1       0.06      0.77      0.11      4067\n",
      "\n",
      "    accuracy                           0.72    172022\n",
      "   macro avg       0.53      0.74      0.47    172022\n",
      "weighted avg       0.97      0.72      0.82    172022\n",
      "\n"
     ]
    }
   ],
   "source": [
    "print(classification_report(y_test,y_pred))"
   ]
  },
  {
   "cell_type": "markdown",
   "metadata": {},
   "source": [
    "### Generate tree branch fall probabilities from the no service request model\n",
    "Then save these in an output file"
   ]
  },
  {
   "cell_type": "code",
   "execution_count": 40,
   "metadata": {},
   "outputs": [],
   "source": [
    "# Calculate Fall probabilities of train and test trees from the no service request model\n",
    "prob_train = forest.predict_proba(x_train)\n",
    "prob_test = forest.predict_proba(x_test)"
   ]
  },
  {
   "cell_type": "code",
   "execution_count": 41,
   "metadata": {},
   "outputs": [
    {
     "name": "stderr",
     "output_type": "stream",
     "text": [
      "C:\\Users\\brian\\.conda\\envs\\insight\\lib\\site-packages\\ipykernel_launcher.py:2: SettingWithCopyWarning: \n",
      "A value is trying to be set on a copy of a slice from a DataFrame.\n",
      "Try using .loc[row_indexer,col_indexer] = value instead\n",
      "\n",
      "See the caveats in the documentation: http://pandas.pydata.org/pandas-docs/stable/user_guide/indexing.html#returning-a-view-versus-a-copy\n",
      "  \n",
      "C:\\Users\\brian\\.conda\\envs\\insight\\lib\\site-packages\\ipykernel_launcher.py:3: SettingWithCopyWarning: \n",
      "A value is trying to be set on a copy of a slice from a DataFrame.\n",
      "Try using .loc[row_indexer,col_indexer] = value instead\n",
      "\n",
      "See the caveats in the documentation: http://pandas.pydata.org/pandas-docs/stable/user_guide/indexing.html#returning-a-view-versus-a-copy\n",
      "  This is separate from the ipykernel package so we can avoid doing imports until\n"
     ]
    }
   ],
   "source": [
    "# combine the fall probabilities for the train and test trees, then append to other data to add fall probabilities to the tree census data\n",
    "df_train['fallprob'] = prob_train[:,1]\n",
    "df_test['fallprob'] = prob_test[:,1]\n",
    "tree_branch_fall_prob_df = df_train.append(df_test)"
   ]
  },
  {
   "cell_type": "code",
   "execution_count": 42,
   "metadata": {},
   "outputs": [],
   "source": [
    "# drop branch fall data from the tree census data with branch fall probabilities\n",
    "tree_branch_fall_prob_df.drop('Fall',axis=1,inplace=True)"
   ]
  },
  {
   "cell_type": "code",
   "execution_count": 43,
   "metadata": {},
   "outputs": [],
   "source": [
    "# export data\n",
    "tree_branch_fall_prob_df.to_csv('Data/FinalOutputs/NoServiceRequestModelOutput.csv')"
   ]
  },
  {
   "cell_type": "markdown",
   "metadata": {},
   "source": [
    "### Model tuning code\n",
    "Code from model tuning was moved down here, it doesn't need to be re-run for modeling, and would take some time to run"
   ]
  },
  {
   "cell_type": "markdown",
   "metadata": {},
   "source": [
    "Gridsearch:"
   ]
  },
  {
   "cell_type": "code",
   "execution_count": 9,
   "metadata": {},
   "outputs": [
    {
     "name": "stderr",
     "output_type": "stream",
     "text": [
      "C:\\Users\\brian\\.conda\\envs\\insight\\lib\\site-packages\\sklearn\\model_selection\\_split.py:1978: FutureWarning: The default value of cv will change from 3 to 5 in version 0.22. Specify it explicitly to silence this warning.\n",
      "  warnings.warn(CV_WARNING, FutureWarning)\n"
     ]
    },
    {
     "data": {
      "text/plain": [
       "array([0.63271625, 0.63348788, 0.63696011, 0.63271625, 0.63348788,\n",
       "       0.63696011, 0.63271625, 0.63348788, 0.63696011, 0.52932097,\n",
       "       0.53510797, 0.53742278, 0.52932097, 0.53510797, 0.53742278,\n",
       "       0.52932097, 0.53510797, 0.53742278, 0.38348767, 0.38464512,\n",
       "       0.38503091, 0.38348767, 0.38464512, 0.38503091, 0.38348767,\n",
       "       0.38464512, 0.38503091, 0.11265445, 0.11304024, 0.11458347,\n",
       "       0.11265445, 0.11304024, 0.11458347, 0.11265445, 0.11304024,\n",
       "       0.11458347, 0.63503108, 0.63155894, 0.63503117, 0.63503108,\n",
       "       0.63155894, 0.63503117, 0.63503108, 0.63155894, 0.63503117,\n",
       "       0.5374228 , 0.53973762, 0.54436722, 0.5374228 , 0.53973762,\n",
       "       0.54436722, 0.5374228 , 0.53973762, 0.54436722, 0.39004628,\n",
       "       0.38657404, 0.38734563, 0.39004628, 0.38657404, 0.38734563,\n",
       "       0.39004628, 0.38657404, 0.38734563, 0.11458349, 0.11458349,\n",
       "       0.11496929, 0.11458349, 0.11458349, 0.11496929, 0.11458349,\n",
       "       0.11458349, 0.11496929, 0.63271625, 0.63348788, 0.63696011,\n",
       "       0.63271625, 0.63348788, 0.63696011, 0.63271625, 0.63348788,\n",
       "       0.63696011, 0.52970678, 0.53510797, 0.53703697, 0.52970678,\n",
       "       0.53510797, 0.53703697, 0.52970678, 0.53510797, 0.53703697,\n",
       "       0.3861883 , 0.38387347, 0.38773153, 0.3861883 , 0.38387347,\n",
       "       0.38773153, 0.3861883 , 0.38387347, 0.38773153, 0.11304027,\n",
       "       0.11304025, 0.11304025, 0.11304027, 0.11304025, 0.11304025,\n",
       "       0.11304027, 0.11304025, 0.11304025, 0.63503108, 0.63155894,\n",
       "       0.63503117, 0.63503108, 0.63155894, 0.63503117, 0.63503108,\n",
       "       0.63155894, 0.63503117, 0.53819441, 0.53973763, 0.54436722,\n",
       "       0.53819441, 0.53973763, 0.54436722, 0.53819441, 0.53973763,\n",
       "       0.54436722, 0.38927461, 0.38850303, 0.38734561, 0.38927461,\n",
       "       0.38850303, 0.38734561, 0.38927461, 0.38850303, 0.38734561,\n",
       "       0.11226866, 0.11149705, 0.11149704, 0.11226866, 0.11149705,\n",
       "       0.11149704, 0.11226866, 0.11149705, 0.11149704, 0.63271625,\n",
       "       0.63348788, 0.63696011, 0.63271625, 0.63348788, 0.63696011,\n",
       "       0.63271625, 0.63348788, 0.63696011, 0.52932097, 0.53510797,\n",
       "       0.53742278, 0.52932097, 0.53510797, 0.53742278, 0.52932097,\n",
       "       0.53510797, 0.53742278, 0.38348767, 0.38464512, 0.38503091,\n",
       "       0.38348767, 0.38464512, 0.38503091, 0.38348767, 0.38464512,\n",
       "       0.38503091, 0.11265445, 0.11304024, 0.11458347, 0.11265445,\n",
       "       0.11304024, 0.11458347, 0.11265445, 0.11304024, 0.11458347,\n",
       "       0.63503108, 0.63155894, 0.63503117, 0.63503108, 0.63155894,\n",
       "       0.63503117, 0.63503108, 0.63155894, 0.63503117, 0.5374228 ,\n",
       "       0.53973762, 0.54436722, 0.5374228 , 0.53973762, 0.54436722,\n",
       "       0.5374228 , 0.53973762, 0.54436722, 0.39004628, 0.38657404,\n",
       "       0.38734563, 0.39004628, 0.38657404, 0.38734563, 0.39004628,\n",
       "       0.38657404, 0.38734563, 0.11458349, 0.11458349, 0.11496929,\n",
       "       0.11458349, 0.11458349, 0.11496929, 0.11458349, 0.11458349,\n",
       "       0.11496929])"
      ]
     },
     "execution_count": 9,
     "metadata": {},
     "output_type": "execute_result"
    }
   ],
   "source": [
    "#Try gridsearch to train model on 20% of the data (i.e. 25% of training data) so it doesn't take too long\n",
    "\n",
    "# First split the training data to a smaller subset for grid search (to run faster)\n",
    "grid_df, grid_df_valid = train_test_split(df_train, random_state=1,test_size=0.8)\n",
    "\n",
    "# Set up feature (x) and target (y) data\n",
    "grid_x = grid_df.drop(['zipcode','Fall','address'],axis=1)\n",
    "grid_y = grid_df.Fall\n",
    "\n",
    "# now correct the class imbalance by oversampling the tree branch fall data for the training data \n",
    "# Oversample fallen branch data to deal with class imbalance and turn data back into a DataFrame\n",
    "sm = SMOTE(random_state=1, ratio = 1)\n",
    "\n",
    "# Random forest model for grid search\n",
    "grid_forest = imbPipeline([\n",
    "    ('oversample', SMOTE(random_state=1,ratio=1)),\n",
    "    ('rf', RandomForestClassifier(random_state = 1))])\n",
    "\n",
    "\n",
    "# Grid search parameters\n",
    "n_estimators = [300, 500, 700]\n",
    "max_depth = [3,5, 10, 30]\n",
    "max_features = ['auto','sqrt', 'log2']\n",
    "class_weight = ['balanced', 'balanced_subsample', None]\n",
    "criterion = ['gini', 'entropy']\n",
    "hyperF = dict(rf__criterion=criterion,rf__n_estimators = n_estimators, rf__max_depth = max_depth, rf__class_weight=class_weight,rf__max_features=max_features)\n",
    "\n",
    "\n",
    "# Run grid search\n",
    "gridF = GridSearchCV(grid_forest, hyperF, scoring = ['recall','f1'], n_jobs = -1,refit='recall')\n",
    "gridF.fit(grid_x, grid_y)\n",
    "\n",
    "# Check grid search results\n",
    "gridF.cv_results_['mean_test_score']"
   ]
  },
  {
   "cell_type": "code",
   "execution_count": 10,
   "metadata": {},
   "outputs": [
    {
     "data": {
      "text/plain": [
       "{'rf__class_weight': 'balanced',\n",
       " 'rf__criterion': 'gini',\n",
       " 'rf__max_depth': 3,\n",
       " 'rf__max_features': 'auto',\n",
       " 'rf__n_estimators': 700}"
      ]
     },
     "execution_count": 10,
     "metadata": {},
     "output_type": "execute_result"
    }
   ],
   "source": [
    "# See optimal gridsearch parameters\n",
    "gridF.best_params_"
   ]
  },
  {
   "cell_type": "code",
   "execution_count": 11,
   "metadata": {},
   "outputs": [
    {
     "data": {
      "text/html": [
       "<div>\n",
       "<style scoped>\n",
       "    .dataframe tbody tr th:only-of-type {\n",
       "        vertical-align: middle;\n",
       "    }\n",
       "\n",
       "    .dataframe tbody tr th {\n",
       "        vertical-align: top;\n",
       "    }\n",
       "\n",
       "    .dataframe thead th {\n",
       "        text-align: right;\n",
       "    }\n",
       "</style>\n",
       "<table border=\"1\" class=\"dataframe\">\n",
       "  <thead>\n",
       "    <tr style=\"text-align: right;\">\n",
       "      <th></th>\n",
       "      <th>Predicted No Fall</th>\n",
       "      <th>Predicted Fall</th>\n",
       "    </tr>\n",
       "  </thead>\n",
       "  <tbody>\n",
       "    <tr>\n",
       "      <th>True No Fall</th>\n",
       "      <td>339766</td>\n",
       "      <td>90150</td>\n",
       "    </tr>\n",
       "    <tr>\n",
       "      <th>True Fall</th>\n",
       "      <td>3676</td>\n",
       "      <td>6783</td>\n",
       "    </tr>\n",
       "  </tbody>\n",
       "</table>\n",
       "</div>"
      ],
      "text/plain": [
       "              Predicted No Fall  Predicted Fall\n",
       "True No Fall             339766           90150\n",
       "True Fall                  3676            6783"
      ]
     },
     "execution_count": 11,
     "metadata": {},
     "output_type": "execute_result"
    }
   ],
   "source": [
    "# Predict validation data\n",
    "grid_x_valid = grid_df_valid.drop(['zipcode','Fall','address'],axis=1)\n",
    "grid_y_valid = grid_df_valid.Fall\n",
    "grid_y_pred = gridF.predict(grid_x_valid)\n",
    "\n",
    "# check grid search result roc-auc and confusion matrix\n",
    "roc_auc_score(grid_y_valid,grid_y_pred)\n",
    "\n",
    "pd.DataFrame(confusion_matrix(grid_y_valid,grid_y_pred),\n",
    "    columns=['Predicted No Fall', 'Predicted Fall'],\n",
    "    index=['True No Fall', 'True Fall'])"
   ]
  },
  {
   "cell_type": "code",
   "execution_count": 12,
   "metadata": {},
   "outputs": [
    {
     "data": {
      "text/plain": [
       "0.7869406755606018"
      ]
     },
     "execution_count": 12,
     "metadata": {},
     "output_type": "execute_result"
    }
   ],
   "source": [
    "accuracy_score(grid_y_valid,grid_y_pred)"
   ]
  },
  {
   "cell_type": "code",
   "execution_count": 13,
   "metadata": {},
   "outputs": [
    {
     "name": "stdout",
     "output_type": "stream",
     "text": [
      "              precision    recall  f1-score   support\n",
      "\n",
      "           0       0.99      0.79      0.88    429916\n",
      "           1       0.07      0.65      0.13     10459\n",
      "\n",
      "    accuracy                           0.79    440375\n",
      "   macro avg       0.53      0.72      0.50    440375\n",
      "weighted avg       0.97      0.79      0.86    440375\n",
      "\n"
     ]
    }
   ],
   "source": [
    "print(classification_report(grid_y_valid,grid_y_pred))"
   ]
  },
  {
   "cell_type": "code",
   "execution_count": 13,
   "metadata": {},
   "outputs": [
    {
     "data": {
      "text/plain": [
       "Text(0.5, 1.0, '2-class Precision-Recall curve')"
      ]
     },
     "execution_count": 13,
     "metadata": {},
     "output_type": "execute_result"
    },
    {
     "data": {
      "image/png": "[encoded data removed]",
      "text/plain": [
       "<Figure size 432x288 with 1 Axes>"
      ]
     },
     "metadata": {
      "needs_background": "light"
     },
     "output_type": "display_data"
    }
   ],
   "source": [
    "# Check the random forest precision recall curve to look at thresholds\n",
    "\n",
    "# Calculate precision and recall\n",
    "precision, recall, _ = precision_recall_curve(y_train, forest.predict(x_train))\n",
    "\n",
    "# Plot\n",
    "step_kwargs = ({'step': 'post'}\n",
    "               if 'step' in signature(plt.fill_between).parameters\n",
    "               else {})\n",
    "plt.step(recall, precision, color='b', alpha=0.2,\n",
    "         where='post')\n",
    "plt.fill_between(recall, precision, alpha=0.2, color='b', **step_kwargs)\n",
    "\n",
    "plt.xlabel('Recall')\n",
    "plt.ylabel('Precision')\n",
    "plt.ylim([0.0, 1.05])\n",
    "plt.xlim([0.0, 1.0])\n",
    "plt.title('2-class Precision-Recall curve')"
   ]
  }
 ],
 "metadata": {
  "kernelspec": {
   "display_name": "Python 3",
   "language": "python",
   "name": "python3"
  },
  "language_info": {
   "codemirror_mode": {
    "name": "ipython",
    "version": 3
   },
   "file_extension": ".py",
   "mimetype": "text/x-python",
   "name": "python",
   "nbconvert_exporter": "python",
   "pygments_lexer": "ipython3",
   "version": "3.7.4"
  }
 },
 "nbformat": 4,
 "nbformat_minor": 2
}
