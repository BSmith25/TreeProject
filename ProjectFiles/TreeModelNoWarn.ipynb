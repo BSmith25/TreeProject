{
 "cells": [
  {
   "cell_type": "code",
   "execution_count": 70,
   "metadata": {},
   "outputs": [],
   "source": [
    "# Import packages\n",
    "%matplotlib inline\n",
    "import category_encoders as ce\n",
    "import pandas as pd\n",
    "import numpy as np\n",
    "import matplotlib.pyplot as plt\n",
    "from sklearn import tree\n",
    "from sklearn.ensemble import RandomForestClassifier\n",
    "from sklearn.model_selection import train_test_split\n",
    "from sklearn.metrics import accuracy_score\n",
    "from sklearn.metrics import confusion_matrix\n",
    "from sklearn.metrics import roc_auc_score"
   ]
  },
  {
   "cell_type": "code",
   "execution_count": 71,
   "metadata": {},
   "outputs": [],
   "source": [
    "# Import data\n",
    "df_trees = pd.read_csv('Data/Intermediate/model_data.csv',index_col='tree_id')"
   ]
  },
  {
   "cell_type": "code",
   "execution_count": 144,
   "metadata": {},
   "outputs": [],
   "source": [
    "df_imp_bldghght = pd.read_csv('Data/spatialdatasets/data_with_imp_bldghght.csv',index_col='tree_id')"
   ]
  },
  {
   "cell_type": "code",
   "execution_count": 145,
   "metadata": {},
   "outputs": [],
   "source": [
    "# drop un-needed columns\n",
    "df_imp_bldghght.drop(['address', 'block_id', 'created_at', 'curb_loc', 'guards', 'health',\n",
    "       'latitude', 'longitude', 'problems', 'root_grate', 'root_other',\n",
    "       'root_stone', 'sidewalk', 'spc_common', 'status', 'steward', 'tree_dbh',\n",
    "       'trnk_light', 'trnk_other', 'trnk_wire', 'zipcode'],axis=1,inplace=True)"
   ]
  },
  {
   "cell_type": "code",
   "execution_count": 146,
   "metadata": {},
   "outputs": [],
   "source": [
    "# merge tree, fall, and warning data with building height and imperviousness\n",
    "df = df_trees.merge(df_imp_bldghght,how='left',left_index=True,right_on='tree_id')"
   ]
  },
  {
   "cell_type": "code",
   "execution_count": 147,
   "metadata": {},
   "outputs": [],
   "source": [
    "# Rename confusing columns and drop warning data\n",
    "df.drop(['Unnamed: 0','Branch Cracked and Will Fall',\n",
    "       'Tree Leaning/Uprooted', 'Hitting Building',\n",
    "       'Hitting Power/Phone Lines', 'Dead Branches in Tree', 'Blocking Street',\n",
    "       'Tree Alive - in Poor Condition',],axis=1,inplace=True)\n",
    "df.rename(columns={'rvalue_1':'impervious_pct'},inplace=True)\n",
    "df.drop('Incident Zip',axis=1,inplace=True)\n",
    "df.rename(columns={'Descriptor':'Fall'},inplace=True)"
   ]
  },
  {
   "cell_type": "code",
   "execution_count": 148,
   "metadata": {},
   "outputs": [
    {
     "name": "stderr",
     "output_type": "stream",
     "text": [
      "C:\\Users\\Brianne\\Anaconda3\\lib\\site-packages\\ipykernel_launcher.py:25: SettingWithCopyWarning: \n",
      "A value is trying to be set on a copy of a slice from a DataFrame.\n",
      "Try using .loc[row_indexer,col_indexer] = value instead\n",
      "\n",
      "See the caveats in the documentation: http://pandas.pydata.org/pandas-docs/stable/indexing.html#indexing-view-versus-copy\n",
      "C:\\Users\\Brianne\\Anaconda3\\lib\\site-packages\\ipykernel_launcher.py:26: SettingWithCopyWarning: \n",
      "A value is trying to be set on a copy of a slice from a DataFrame.\n",
      "Try using .loc[row_indexer,col_indexer] = value instead\n",
      "\n",
      "See the caveats in the documentation: http://pandas.pydata.org/pandas-docs/stable/indexing.html#indexing-view-versus-copy\n"
     ]
    }
   ],
   "source": [
    "# Deal with categorical data\n",
    "# make a copy\n",
    "dt_input = df.copy()\n",
    "\n",
    "# First convert all Yes/No and True/False columns to 1/0\n",
    "dt_input.replace({'No': 0, 'Yes': 1},value=None,inplace=True)\n",
    "dt_input.replace({False: 0, True: 1},value=None,inplace=True)\n",
    "dt_input.replace(np.nan,0,inplace=True)\n",
    "\n",
    "# Now convert all 2 option columns to 1/0\n",
    "dt_input.curb_loc.replace({'OnCurb':1, 'OffsetFromCurb':0},value=None,inplace=True)\n",
    "dt_input.sidewalk.replace({'Damage':1, 'NoDamage':0},value=None,inplace=True)\n",
    "dt_input.Fall.replace('Branch or Limb Has Fallen Down',1,inplace=True)\n",
    "\n",
    "# Replace health, steward, and guards columns with numerical levels\n",
    "dt_input.health.replace({'Poor':0,'Fair':1,'Good':2},value=None,inplace=True)\n",
    "dt_input.steward.replace({'None':0,'1or2':1,'3or4':2,'4orMore':3},value=None,inplace=True)\n",
    "dt_input.guards.replace({'Harmful':0,'None':1,'Unsure':2,'Helpful':4},value=None,inplace=True)\n",
    "\n",
    "# Target encode tree species descriptor data\n",
    "# First split train and test data to prevent data leakage\n",
    "dt_train, dt_test = train_test_split(dt_input, random_state=1,test_size=0.8) # note small train size is for gridsearch\n",
    "\n",
    "target_dict = dt_train.groupby('spc_common')['Fall'].mean()\n",
    "dt_train['spc_common'] = dt_train['spc_common'].map(target_dict)\n",
    "dt_test['spc_common'] = dt_test['spc_common'].map(target_dict)\n"
   ]
  },
  {
   "cell_type": "code",
   "execution_count": 15,
   "metadata": {},
   "outputs": [
    {
     "name": "stderr",
     "output_type": "stream",
     "text": [
      "C:\\Users\\Brianne\\Anaconda3\\lib\\site-packages\\sklearn\\model_selection\\_split.py:2053: FutureWarning: You should specify a value for 'cv' instead of relying on the default value. The default value will change from 3 to 5 in version 0.22.\n",
      "  warnings.warn(CV_WARNING, FutureWarning)\n"
     ]
    }
   ],
   "source": [
    "#Try gridsearch to train model on 20% of data\n",
    "x_train = dt_train.drop(['zipcode','Fall','address'],axis=1)\n",
    "y_train = dt_train.Fall\n",
    "from sklearn.ensemble import RandomForestClassifier\n",
    "from sklearn.model_selection import GridSearchCV\n",
    "\n",
    "#model\n",
    "forest = RandomForestClassifier(random_state = 1)\n",
    "\n",
    "# Grid Search\n",
    "n_estimators = [100, 300]\n",
    "max_depth = [10, 30, 50]\n",
    "class_weight = ['balanced', 'balanced_subsample', None]\n",
    "\n",
    "hyperF = dict(n_estimators = n_estimators, max_depth = max_depth, class_weight=class_weight)\n",
    "\n",
    "gridF = GridSearchCV(forest, hyperF, scoring = 'recall', n_jobs = -1)"
   ]
  },
  {
   "cell_type": "code",
   "execution_count": 17,
   "metadata": {},
   "outputs": [
    {
     "data": {
      "text/plain": [
       "array([0.74340704, 0.74411981, 0.18650512, 0.18507961, 0.15419336,\n",
       "       0.15538128, 0.74530772, 0.74602049, 0.18127826, 0.18151583,\n",
       "       0.15561889, 0.15633162, 0.02328342, 0.023521  , 0.15039201,\n",
       "       0.1506296 , 0.1620337 , 0.16250887])"
      ]
     },
     "execution_count": 17,
     "metadata": {},
     "output_type": "execute_result"
    }
   ],
   "source": [
    "# Check grid search results\n",
    "gridF.cv_results_['mean_test_score']"
   ]
  },
  {
   "cell_type": "code",
   "execution_count": 19,
   "metadata": {},
   "outputs": [
    {
     "data": {
      "text/plain": [
       "{'class_weight': 'balanced_subsample', 'max_depth': 10, 'n_estimators': 300}"
      ]
     },
     "execution_count": 19,
     "metadata": {},
     "output_type": "execute_result"
    }
   ],
   "source": [
    "# See optimal gridsearch parameters\n",
    "gridF.best_params_"
   ]
  },
  {
   "cell_type": "code",
   "execution_count": 23,
   "metadata": {},
   "outputs": [
    {
     "data": {
      "text/plain": [
       "0.7818494913885068"
      ]
     },
     "execution_count": 23,
     "metadata": {},
     "output_type": "execute_result"
    }
   ],
   "source": [
    "# check grid search result auc and confusion matrix\n",
    "x_test = dt_test.drop(['zipcode','Fall','address'],axis=1)\n",
    "y_test = dt_test.Fall\n",
    "y_pred = gridF.predict(x_test)\n",
    "roc_auc_score(y_test,y_pred)"
   ]
  },
  {
   "cell_type": "code",
   "execution_count": 24,
   "metadata": {},
   "outputs": [
    {
     "data": {
      "text/html": [
       "<div>\n",
       "<style scoped>\n",
       "    .dataframe tbody tr th:only-of-type {\n",
       "        vertical-align: middle;\n",
       "    }\n",
       "\n",
       "    .dataframe tbody tr th {\n",
       "        vertical-align: top;\n",
       "    }\n",
       "\n",
       "    .dataframe thead th {\n",
       "        text-align: right;\n",
       "    }\n",
       "</style>\n",
       "<table border=\"1\" class=\"dataframe\">\n",
       "  <thead>\n",
       "    <tr style=\"text-align: right;\">\n",
       "      <th></th>\n",
       "      <th>Predicted No Fall</th>\n",
       "      <th>Predicted Fall</th>\n",
       "    </tr>\n",
       "  </thead>\n",
       "  <tbody>\n",
       "    <tr>\n",
       "      <th>True No Fall</th>\n",
       "      <td>497372</td>\n",
       "      <td>115624</td>\n",
       "    </tr>\n",
       "    <tr>\n",
       "      <th>True Fall</th>\n",
       "      <td>4110</td>\n",
       "      <td>12484</td>\n",
       "    </tr>\n",
       "  </tbody>\n",
       "</table>\n",
       "</div>"
      ],
      "text/plain": [
       "              Predicted No Fall  Predicted Fall\n",
       "True No Fall             497372          115624\n",
       "True Fall                  4110           12484"
      ]
     },
     "execution_count": 24,
     "metadata": {},
     "output_type": "execute_result"
    }
   ],
   "source": [
    "pd.DataFrame(\n",
    "    confusion_matrix(y_test, y_pred),\n",
    "    columns=['Predicted No Fall', 'Predicted Fall'],\n",
    "    index=['True No Fall', 'True Fall']\n",
    ")"
   ]
  },
  {
   "cell_type": "code",
   "execution_count": 149,
   "metadata": {},
   "outputs": [
    {
     "name": "stderr",
     "output_type": "stream",
     "text": [
      "C:\\Users\\Brianne\\Anaconda3\\lib\\site-packages\\ipykernel_launcher.py:3: SettingWithCopyWarning: \n",
      "A value is trying to be set on a copy of a slice from a DataFrame.\n",
      "Try using .loc[row_indexer,col_indexer] = value instead\n",
      "\n",
      "See the caveats in the documentation: http://pandas.pydata.org/pandas-docs/stable/indexing.html#indexing-view-versus-copy\n",
      "  This is separate from the ipykernel package so we can avoid doing imports until\n",
      "C:\\Users\\Brianne\\Anaconda3\\lib\\site-packages\\ipykernel_launcher.py:4: SettingWithCopyWarning: \n",
      "A value is trying to be set on a copy of a slice from a DataFrame.\n",
      "Try using .loc[row_indexer,col_indexer] = value instead\n",
      "\n",
      "See the caveats in the documentation: http://pandas.pydata.org/pandas-docs/stable/indexing.html#indexing-view-versus-copy\n",
      "  after removing the cwd from sys.path.\n"
     ]
    },
    {
     "name": "stdout",
     "output_type": "stream",
     "text": [
      "Feature ranking:\n",
      "1. feature heightroof (0.523761)\n",
      "2. feature tree_dbh (0.206190)\n",
      "3. feature spc_common (0.132158)\n",
      "4. feature impervious_pct (0.031277)\n",
      "5. feature guards (0.019397)\n",
      "6. feature health (0.018552)\n",
      "7. feature root_stone (0.018113)\n",
      "8. feature sidewalk (0.017275)\n",
      "9. feature curb_loc (0.014069)\n",
      "10. feature steward (0.009848)\n",
      "11. feature root_other (0.002946)\n",
      "12. feature trnk_other (0.002913)\n",
      "13. feature trnk_wire (0.001771)\n",
      "14. feature root_grate (0.001209)\n",
      "15. feature trnk_light (0.000519)\n"
     ]
    },
    {
     "data": {
      "image/png": "[encoded data removed]",
      "text/plain": [
       "<Figure size 432x288 with 1 Axes>"
      ]
     },
     "metadata": {
      "needs_background": "light"
     },
     "output_type": "display_data"
    }
   ],
   "source": [
    "# Check feature importance from ideal model - return to 80/20 train test split\n",
    "dt_train, dt_test = train_test_split(dt_input, random_state=1,test_size=0.2)\n",
    "dt_train['spc_common'] = dt_train['spc_common'].map(target_dict)\n",
    "dt_test['spc_common'] = dt_test['spc_common'].map(target_dict)\n",
    "x_train = dt_train.drop(['zipcode','Fall','address'],axis=1)\n",
    "y_train = dt_train.Fall\n",
    "\n",
    "forest = RandomForestClassifier(n_jobs=-1,class_weight='balanced_subsample',random_state = 1, max_depth = 10, n_estimators = 300)\n",
    "\n",
    "model = forest.fit(x_train, y_train)\n",
    "importances = forest.feature_importances_\n",
    "std = np.std([tree.feature_importances_ for tree in forest.estimators_],\n",
    "             axis=0)\n",
    "indices = np.argsort(importances)[::-1]\n",
    "\n",
    "# Print the feature ranking\n",
    "print(\"Feature ranking:\")\n",
    "\n",
    "for f in range(x_train.shape[1]):\n",
    "    print(\"%d. feature %s (%f)\" % (f + 1, x_train.columns[indices[f]], importances[indices[f]]))\n",
    "\n",
    "# Plot the feature importances of the forest\n",
    "plt.figure()\n",
    "plt.title(\"Feature importances\")\n",
    "plt.bar(range(x_train.shape[1]), importances[indices],\n",
    "       color=\"r\", yerr=std[indices], align=\"center\")\n",
    "plt.xticks(range(x_train.shape[1]), indices)\n",
    "plt.xlim([-1, x_train.shape[1]])\n",
    "plt.show()"
   ]
  },
  {
   "cell_type": "code",
   "execution_count": 150,
   "metadata": {},
   "outputs": [
    {
     "data": {
      "text/plain": [
       "0.7630665493474108"
      ]
     },
     "execution_count": 150,
     "metadata": {},
     "output_type": "execute_result"
    }
   ],
   "source": [
    "# Check AUC for model on test data\n",
    "x_test = dt_test.drop(['zipcode','Fall','address'],axis=1)\n",
    "y_test = dt_test.Fall\n",
    "y_pred = forest.predict(x_test)\n",
    "roc_auc_score(y_test,y_pred)"
   ]
  },
  {
   "cell_type": "code",
   "execution_count": 151,
   "metadata": {},
   "outputs": [
    {
     "data": {
      "text/html": [
       "<div>\n",
       "<style scoped>\n",
       "    .dataframe tbody tr th:only-of-type {\n",
       "        vertical-align: middle;\n",
       "    }\n",
       "\n",
       "    .dataframe tbody tr th {\n",
       "        vertical-align: top;\n",
       "    }\n",
       "\n",
       "    .dataframe thead th {\n",
       "        text-align: right;\n",
       "    }\n",
       "</style>\n",
       "<table border=\"1\" class=\"dataframe\">\n",
       "  <thead>\n",
       "    <tr style=\"text-align: right;\">\n",
       "      <th></th>\n",
       "      <th>Predicted No Fall</th>\n",
       "      <th>Predicted Fall</th>\n",
       "    </tr>\n",
       "  </thead>\n",
       "  <tbody>\n",
       "    <tr>\n",
       "      <th>True No Fall</th>\n",
       "      <td>113962</td>\n",
       "      <td>39209</td>\n",
       "    </tr>\n",
       "    <tr>\n",
       "      <th>True Fall</th>\n",
       "      <td>921</td>\n",
       "      <td>3306</td>\n",
       "    </tr>\n",
       "  </tbody>\n",
       "</table>\n",
       "</div>"
      ],
      "text/plain": [
       "              Predicted No Fall  Predicted Fall\n",
       "True No Fall             113962           39209\n",
       "True Fall                   921            3306"
      ]
     },
     "execution_count": 151,
     "metadata": {},
     "output_type": "execute_result"
    }
   ],
   "source": [
    "# Check confusion matrix for model on test data\n",
    "pd.DataFrame(\n",
    "    confusion_matrix(y_test, y_pred),\n",
    "    columns=['Predicted No Fall', 'Predicted Fall'],\n",
    "    index=['True No Fall', 'True Fall']\n",
    ")"
   ]
  },
  {
   "cell_type": "code",
   "execution_count": 152,
   "metadata": {},
   "outputs": [
    {
     "data": {
      "text/plain": [
       "0.7450412330525166"
      ]
     },
     "execution_count": 152,
     "metadata": {},
     "output_type": "execute_result"
    }
   ],
   "source": [
    "accuracy_score(y_test,y_pred)"
   ]
  },
  {
   "cell_type": "code",
   "execution_count": 153,
   "metadata": {},
   "outputs": [],
   "source": [
    "# Calculate Fall probabilities of each tree from model\n",
    "prob_train = forest.predict_proba(x_train)\n",
    "prob_test = forest.predict_proba(x_test)"
   ]
  },
  {
   "cell_type": "code",
   "execution_count": 154,
   "metadata": {},
   "outputs": [
    {
     "name": "stderr",
     "output_type": "stream",
     "text": [
      "C:\\Users\\Brianne\\Anaconda3\\lib\\site-packages\\ipykernel_launcher.py:4: SettingWithCopyWarning: \n",
      "A value is trying to be set on a copy of a slice from a DataFrame.\n",
      "Try using .loc[row_indexer,col_indexer] = value instead\n",
      "\n",
      "See the caveats in the documentation: http://pandas.pydata.org/pandas-docs/stable/indexing.html#indexing-view-versus-copy\n",
      "  after removing the cwd from sys.path.\n",
      "C:\\Users\\Brianne\\Anaconda3\\lib\\site-packages\\ipykernel_launcher.py:5: SettingWithCopyWarning: \n",
      "A value is trying to be set on a copy of a slice from a DataFrame.\n",
      "Try using .loc[row_indexer,col_indexer] = value instead\n",
      "\n",
      "See the caveats in the documentation: http://pandas.pydata.org/pandas-docs/stable/indexing.html#indexing-view-versus-copy\n",
      "  \"\"\"\n"
     ]
    }
   ],
   "source": [
    "# combine all fall probabilites with data\n",
    "x_train_prob = x_train.copy()\n",
    "x_test_prob = x_test.copy()\n",
    "dt_train['fallprob'] = prob_train[:,1]\n",
    "dt_test['fallprob'] = prob_test[:,1]\n",
    "data_prob = dt_train.append(dt_test)"
   ]
  },
  {
   "cell_type": "code",
   "execution_count": 158,
   "metadata": {},
   "outputs": [
    {
     "data": {
      "text/plain": [
       "<matplotlib.axes._subplots.AxesSubplot at 0x22eb8212fd0>"
      ]
     },
     "execution_count": 158,
     "metadata": {},
     "output_type": "execute_result"
    },
    {
     "data": {
      "image/png": "[encoded data removed]",
      "text/plain": [
       "<Figure size 432x288 with 1 Axes>"
      ]
     },
     "metadata": {
      "needs_background": "light"
     },
     "output_type": "display_data"
    }
   ],
   "source": [
    "# plot\n",
    "data_prob.fallprob.hist()\n"
   ]
  },
  {
   "cell_type": "code",
   "execution_count": 159,
   "metadata": {},
   "outputs": [
    {
     "data": {
      "text/plain": [
       "Index(['tree_id', 'address', 'curb_loc', 'guards', 'health', 'root_grate',\n",
       "       'root_other', 'root_stone', 'sidewalk', 'spc_common', 'steward',\n",
       "       'tree_dbh', 'trnk_light', 'trnk_other', 'trnk_wire', 'zipcode',\n",
       "       'impervious_pct', 'heightroof', 'fallprob'],\n",
       "      dtype='object')"
      ]
     },
     "execution_count": 159,
     "metadata": {},
     "output_type": "execute_result"
    }
   ],
   "source": [
    "# clean up dataset\n",
    "data_prob.drop('Fall',axis=1,inplace=True)\n",
    "data_prob.columns"
   ]
  },
  {
   "cell_type": "code",
   "execution_count": 161,
   "metadata": {},
   "outputs": [],
   "source": [
    "# export data\n",
    "data_prob.to_csv('Data/FinalOutputs/NoWarnModelOutput.csv')"
   ]
  }
 ],
 "metadata": {
  "kernelspec": {
   "display_name": "Python 3",
   "language": "python",
   "name": "python3"
  },
  "language_info": {
   "codemirror_mode": {
    "name": "ipython",
    "version": 3
   },
   "file_extension": ".py",
   "mimetype": "text/x-python",
   "name": "python",
   "nbconvert_exporter": "python",
   "pygments_lexer": "ipython3",
   "version": "3.7.4"
  }
 },
 "nbformat": 4,
 "nbformat_minor": 2
}
