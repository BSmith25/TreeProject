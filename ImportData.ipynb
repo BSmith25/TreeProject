{
 "cells": [
  {
   "cell_type": "code",
   "execution_count": 1,
   "metadata": {},
   "outputs": [],
   "source": [
    "# Import packages\n",
    "%matplotlib inline\n",
    "import pandas as pd\n",
    "import numpy as np\n",
    "import geopandas\n",
    "import scipy as sp\n",
    "import scipy.stats\n",
    "import matplotlib.pyplot as plt\n",
    "from sklearn import tree\n",
    "from sklearn.ensemble import ExtraTreesClassifier\n",
    "from sklearn.model_selection import train_test_split\n",
    "from sklearn.metrics import accuracy_score\n",
    "from sklearn.metrics import confusion_matrix\n",
    "from sklearn.metrics import roc_auc_score\n",
    "from sklearn.tree import export_graphviz\n",
    "from IPython.display import SVG\n",
    "from graphviz import Source\n",
    "from IPython.display import display"
   ]
  },
  {
   "cell_type": "code",
   "execution_count": 2,
   "metadata": {},
   "outputs": [],
   "source": [
    "# Import and Organize Tree Survey\n",
    "\n",
    "# Import tree survey data\n",
    "data = geopandas.read_file('Data/Trees/2015 Street Tree Census - Tree Data/geo_export_f9cac9c3-66c4-45b6-899b-823a270d8754.shp')\n",
    "\n",
    "# Turn tree survey data into a normal dataframe and remove a bunch of columns\n",
    "data_nogeom = pd.DataFrame(data.drop(columns='geometry'), copy=True)\n",
    "data_nogeom=data_nogeom.drop(['block_id', 'boro_ct', 'borocode', 'boroname', 'brnch_ligh',\n",
    "       'brnch_othe', 'brnch_shoe', 'cb_num', 'cncldist','nta',\n",
    "       'nta_name','spc_latin', 'st_assem', 'st_senate', 'state','stump_diam','user_type', 'x_sp', 'y_sp', 'zip_city'],axis=1)\n",
    "\n",
    "data_nogeom=data_nogeom.dropna()"
   ]
  },
  {
   "cell_type": "code",
   "execution_count": 3,
   "metadata": {},
   "outputs": [
    {
     "name": "stderr",
     "output_type": "stream",
     "text": [
      "C:\\ProgramData\\Anaconda3\\lib\\site-packages\\IPython\\core\\interactiveshell.py:3057: DtypeWarning: Columns (19) have mixed types. Specify dtype option on import or set low_memory=False.\n",
      "  interactivity=interactivity, compiler=compiler, result=result)\n"
     ]
    },
    {
     "data": {
      "text/plain": [
       "0    True\n",
       "1    True\n",
       "2    True\n",
       "3    True\n",
       "4    True\n",
       "Name: Fall, dtype: bool"
      ]
     },
     "execution_count": 3,
     "metadata": {},
     "output_type": "execute_result"
    }
   ],
   "source": [
    "# Import and organize 311 tree fall data and merge with tree survey data\n",
    "\n",
    "# Import fall data and drop irrelevant columns\n",
    "data_falls = pd.read_csv('Data/311/Tree_Fall_311.csv',quoting=3)\n",
    "data_falls = data_falls.drop(['Incident Zip',\n",
    "       'Street Name', 'Cross Street 1', 'Cross Street 2',\n",
    "       'Intersection Street 1', 'Intersection Street 2', 'Status', 'Borough',\n",
    "       'X Coordinate (State Plane)', 'Y Coordinate (State Plane)'],axis=1)\n",
    "\n",
    "# Remove the falls before 2015 (before survey)\n",
    "data_falls['Created Date']= pd.to_datetime(data_falls['Created Date'])\n",
    "data_falls = data_falls.where(data_falls['Created Date']>'2015-01-01')\n",
    "\n",
    "# Merge falls and tree survey based on address\n",
    "data_with_falls = data_falls.merge(data_nogeom,how=\"right\",left_on=\"Incident Address\",right_on=\"address\")\n",
    "\n",
    "# Create column Fall to have True/False for if tree branch or full tree fell\n",
    "data_with_falls['Fall']=  list(map(lambda x: not np.isnan(x),data_with_falls['Unique Key']))\n",
    "data_with_falls['Fall'].head()\n"
   ]
  },
  {
   "cell_type": "code",
   "execution_count": 4,
   "metadata": {},
   "outputs": [],
   "source": [
    "# Import and organize 311 tree damage warning data and merge with tree survey data\n",
    "\n",
    "# Import reported damage warning data and drop unneeded columns\n",
    "data_damage = pd.read_csv('Data/311/Tree_Damage_311.csv')\n",
    "data_damage = data_damage.drop(['Incident Zip',\n",
    "       'Street Name', 'Cross Street 1', 'Cross Street 2',\n",
    "       'Intersection Street 1', 'Intersection Street 2', 'Status', 'Borough',\n",
    "       'X Coordinate (State Plane)', 'Y Coordinate (State Plane)'],axis=1)\n",
    "\n",
    "# Merge in tree warning data based on address\n",
    "data_with_falls_damage = data_damage.merge(data_with_falls,how=\"right\",left_on=\"Incident Address\",right_on=\"address\")\n",
    "\n",
    "# Create column Damage to have True/False for if any damage was reported\n",
    "data_with_falls_damage['Damage']=  list(map(lambda x: not np.isnan(x),data_with_falls_damage['Unique Key_x']))\n"
   ]
  },
  {
   "cell_type": "code",
   "execution_count": null,
   "metadata": {},
   "outputs": [],
   "source": []
  }
 ],
 "metadata": {
  "kernelspec": {
   "display_name": "Python 3",
   "language": "python",
   "name": "python3"
  },
  "language_info": {
   "codemirror_mode": {
    "name": "ipython",
    "version": 3
   },
   "file_extension": ".py",
   "mimetype": "text/x-python",
   "name": "python",
   "nbconvert_exporter": "python",
   "pygments_lexer": "ipython3",
   "version": "3.7.3"
  }
 },
 "nbformat": 4,
 "nbformat_minor": 2
}
